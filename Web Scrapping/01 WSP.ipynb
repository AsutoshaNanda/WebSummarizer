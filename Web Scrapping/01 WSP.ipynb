{
 "cells": [
  {
   "cell_type": "code",
   "execution_count": 105,
   "id": "d542dafc-6b2f-4f93-aef7-e05781ebd144",
   "metadata": {},
   "outputs": [],
   "source": [
    "from urllib.request import urlopen\n",
    "from bs4 import BeautifulSoup"
   ]
  },
  {
   "cell_type": "code",
   "execution_count": 107,
   "id": "60555c92-edee-4b70-bf64-6dae07fd0ebf",
   "metadata": {},
   "outputs": [],
   "source": [
    "url = \"http://www.hubertiming.com/results/2017GPTR10K\"\n",
    "html = urlopen(url)"
   ]
  },
  {
   "cell_type": "code",
   "execution_count": 108,
   "id": "efaeed90-1efa-4880-ba9c-859477338f7f",
   "metadata": {},
   "outputs": [
    {
     "data": {
      "text/plain": [
       "bs4.BeautifulSoup"
      ]
     },
     "execution_count": 108,
     "metadata": {},
     "output_type": "execute_result"
    }
   ],
   "source": [
    "soup = BeautifulSoup(html,'lxml')\n",
    "type(soup)"
   ]
  },
  {
   "cell_type": "code",
   "execution_count": 109,
   "id": "0e499b75-7fd7-4f16-b7ab-e9c933a2fa6e",
   "metadata": {},
   "outputs": [],
   "source": [
    "title = soup.title"
   ]
  },
  {
   "cell_type": "code",
   "execution_count": 110,
   "id": "a6ca0cf4-7543-4463-83be-15742af89023",
   "metadata": {},
   "outputs": [],
   "source": [
    "text=soup.get_text()"
   ]
  },
  {
   "cell_type": "code",
   "execution_count": null,
   "id": "abb8ab6e-2576-4205-aff2-7664391cabb0",
   "metadata": {},
   "outputs": [],
   "source": [
    "print(title,text)"
   ]
  },
  {
   "cell_type": "code",
   "execution_count": 111,
   "id": "1ce98c65-029e-4241-b8d8-83020752ce37",
   "metadata": {},
   "outputs": [],
   "source": [
    "url1 = \"https://edwarddonner.com\"\n",
    "html1 =urlopen(url1)"
   ]
  },
  {
   "cell_type": "code",
   "execution_count": 112,
   "id": "f8f17e12-4869-479e-a363-72f18100ae92",
   "metadata": {},
   "outputs": [
    {
     "data": {
      "text/plain": [
       "bs4.BeautifulSoup"
      ]
     },
     "execution_count": 112,
     "metadata": {},
     "output_type": "execute_result"
    }
   ],
   "source": [
    "soup1=BeautifulSoup(html1,'lxml')\n",
    "type(soup1)"
   ]
  },
  {
   "cell_type": "code",
   "execution_count": 113,
   "id": "55234096-49a7-49df-a132-ca8f023fc211",
   "metadata": {},
   "outputs": [],
   "source": [
    "title=soup1.title"
   ]
  },
  {
   "cell_type": "code",
   "execution_count": null,
   "id": "e3084a4c-b74b-420c-81cc-b3bbd9ac0393",
   "metadata": {},
   "outputs": [],
   "source": [
    "text=soup1.get_text()"
   ]
  },
  {
   "cell_type": "code",
   "execution_count": null,
   "id": "c1fe0cd4-66e5-406a-ac86-c7deab0746f2",
   "metadata": {},
   "outputs": [],
   "source": [
    "print(title,text)"
   ]
  },
  {
   "cell_type": "code",
   "execution_count": 118,
   "id": "3748f6e7-9a3f-4d67-9e1b-a323bd97a5c7",
   "metadata": {},
   "outputs": [
    {
     "data": {
      "text/plain": [
       "[<a aria-current=\"page\" class=\"wp-block-navigation-item__content\" href=\"https://edwarddonner.com/\"><span class=\"wp-block-navigation-item__label\">Home</span></a>,\n",
       " <a class=\"wp-block-navigation-item__content\" href=\"https://edwarddonner.com/connect-four/\"><span class=\"wp-block-navigation-item__label\">Connect Four</span></a>,\n",
       " <a class=\"wp-block-navigation-item__content\" href=\"https://edwarddonner.com/outsmart/\" title=\"Outsmart\"><span class=\"wp-block-navigation-item__label\">Outsmart</span><span class=\"wp-block-navigation-item__description\">An arena that pits LLMs against each other in a battle of diplomacy and deviousness</span></a>,\n",
       " <a class=\"wp-block-navigation-item__content\" href=\"https://edwarddonner.com/about-me-and-about-nebula/\"><span class=\"wp-block-navigation-item__label\">About</span></a>,\n",
       " <a class=\"wp-block-navigation-item__content\" href=\"https://edwarddonner.com/posts/\"><span class=\"wp-block-navigation-item__label\">Posts</span></a>,\n",
       " <a aria-current=\"page\" class=\"custom-logo-link\" href=\"https://edwarddonner.com/\" rel=\"home\"><img alt=\"Edward Donner\" class=\"custom-logo\" data-attachment-id=\"54\" data-comments-opened=\"1\" data-image-caption=\"\" data-image-description=\"&lt;p&gt;https://edwarddonner.com/wp-content/uploads/2023/12/cropped-edworkprofile2.png&lt;/p&gt;\n",
       " \" data-image-meta='{\"aperture\":\"0\",\"credit\":\"\",\"camera\":\"\",\"caption\":\"\",\"created_timestamp\":\"0\",\"copyright\":\"\",\"focal_length\":\"0\",\"iso\":\"0\",\"shutter_speed\":\"0\",\"title\":\"\",\"orientation\":\"0\"}' data-image-title=\"cropped-edworkprofile2.png\" data-large-file=\"https://i0.wp.com/edwarddonner.com/wp-content/uploads/2023/12/cropped-edworkprofile2.png?fit=1024%2C1024&amp;ssl=1\" data-medium-file=\"https://i0.wp.com/edwarddonner.com/wp-content/uploads/2023/12/cropped-edworkprofile2.png?fit=300%2C300&amp;ssl=1\" data-orig-file=\"https://i0.wp.com/edwarddonner.com/wp-content/uploads/2023/12/cropped-edworkprofile2.png?fit=1128%2C1128&amp;ssl=1\" data-orig-size=\"1128,1128\" data-permalink=\"https://edwarddonner.com/cropped-edworkprofile2-png/\" decoding=\"async\" height=\"140\" src=\"https://i0.wp.com/edwarddonner.com/wp-content/uploads/2023/12/cropped-edworkprofile2.png?fit=1128%2C1128&amp;ssl=1\" width=\"140\"/></a>,\n",
       " <a href=\"https://news.ycombinator.com\">Hacker News</a>,\n",
       " <a href=\"https://nebula.io/?utm_source=ed&amp;utm_medium=referral\">Nebula.io</a>,\n",
       " <a href=\"https://www.prnewswire.com/news-releases/wynden-stark-group-acquires-nyc-venture-backed-tech-startup-untapt-301269512.html\">acquired in 2021</a>,\n",
       " <a href=\"https://patents.google.com/patent/US20210049536A1/\">patented</a>,\n",
       " <a href=\"https://www.linkedin.com/in/eddonner/\">Connect</a>,\n",
       " <a href=\"https://edwarddonner.com/2025/05/28/connecting-my-courses-become-an-llm-expert-and-leader/\" target=\"_self\"><img alt=\"Connecting my courses – become an LLM expert and leader\" class=\"attachment-post-thumbnail size-post-thumbnail wp-post-image\" data-attachment-id=\"1686\" data-comments-opened=\"1\" data-image-caption=\"\" data-image-description=\"\" data-image-meta='{\"aperture\":\"0\",\"credit\":\"\",\"camera\":\"\",\"caption\":\"\",\"created_timestamp\":\"0\",\"copyright\":\"\",\"focal_length\":\"0\",\"iso\":\"0\",\"shutter_speed\":\"0\",\"title\":\"\",\"orientation\":\"1\"}' data-image-title=\"LLM Expert Journey\" data-large-file=\"https://i0.wp.com/edwarddonner.com/wp-content/uploads/2025/05/exec-copy2.jpeg?fit=1024%2C678&amp;ssl=1\" data-medium-file=\"https://i0.wp.com/edwarddonner.com/wp-content/uploads/2025/05/exec-copy2.jpeg?fit=300%2C199&amp;ssl=1\" data-orig-file=\"https://i0.wp.com/edwarddonner.com/wp-content/uploads/2025/05/exec-copy2.jpeg?fit=1628%2C1078&amp;ssl=1\" data-orig-size=\"1628,1078\" data-permalink=\"https://edwarddonner.com/2025/05/28/connecting-my-courses-become-an-llm-expert-and-leader/exec-copy2/\" decoding=\"async\" fetchpriority=\"high\" height=\"1078\" sizes=\"(max-width: 1628px) 100vw, 1628px\" src=\"https://edwarddonner.com/wp-content/uploads/2025/05/exec-copy2.jpeg\" srcset=\"https://i0.wp.com/edwarddonner.com/wp-content/uploads/2025/05/exec-copy2.jpeg?w=1628&amp;ssl=1 1628w, https://i0.wp.com/edwarddonner.com/wp-content/uploads/2025/05/exec-copy2.jpeg?resize=300%2C199&amp;ssl=1 300w, https://i0.wp.com/edwarddonner.com/wp-content/uploads/2025/05/exec-copy2.jpeg?resize=1024%2C678&amp;ssl=1 1024w, https://i0.wp.com/edwarddonner.com/wp-content/uploads/2025/05/exec-copy2.jpeg?resize=768%2C509&amp;ssl=1 768w, https://i0.wp.com/edwarddonner.com/wp-content/uploads/2025/05/exec-copy2.jpeg?resize=1536%2C1017&amp;ssl=1 1536w\" style=\"width:100%;height:100%;object-fit:cover;\" width=\"1628\"/></a>,\n",
       " <a href=\"https://edwarddonner.com/2025/05/28/connecting-my-courses-become-an-llm-expert-and-leader/\" target=\"_self\">Connecting my courses – become an LLM expert and leader</a>,\n",
       " <a href=\"https://edwarddonner.com/2025/05/18/2025-ai-executive-briefing/\" target=\"_self\"><img alt=\"2025 AI Executive Briefing\" class=\"attachment-post-thumbnail size-post-thumbnail wp-post-image\" data-attachment-id=\"1632\" data-comments-opened=\"1\" data-image-caption=\"\" data-image-description=\"\" data-image-meta='{\"aperture\":\"0\",\"credit\":\"\",\"camera\":\"\",\"caption\":\"\",\"created_timestamp\":\"0\",\"copyright\":\"\",\"focal_length\":\"0\",\"iso\":\"0\",\"shutter_speed\":\"0\",\"title\":\"\",\"orientation\":\"0\"}' data-image-title=\"AI Executive Briefing\" data-large-file=\"https://i0.wp.com/edwarddonner.com/wp-content/uploads/2025/05/exec.png?fit=1024%2C683&amp;ssl=1\" data-medium-file=\"https://i0.wp.com/edwarddonner.com/wp-content/uploads/2025/05/exec.png?fit=300%2C200&amp;ssl=1\" data-orig-file=\"https://i0.wp.com/edwarddonner.com/wp-content/uploads/2025/05/exec.png?fit=1536%2C1024&amp;ssl=1\" data-orig-size=\"1536,1024\" data-permalink=\"https://edwarddonner.com/2025/05/18/2025-ai-executive-briefing/exec/\" decoding=\"async\" height=\"1024\" sizes=\"(max-width: 1536px) 100vw, 1536px\" src=\"https://edwarddonner.com/wp-content/uploads/2025/05/exec.png\" srcset=\"https://i0.wp.com/edwarddonner.com/wp-content/uploads/2025/05/exec.png?w=1536&amp;ssl=1 1536w, https://i0.wp.com/edwarddonner.com/wp-content/uploads/2025/05/exec.png?resize=300%2C200&amp;ssl=1 300w, https://i0.wp.com/edwarddonner.com/wp-content/uploads/2025/05/exec.png?resize=1024%2C683&amp;ssl=1 1024w, https://i0.wp.com/edwarddonner.com/wp-content/uploads/2025/05/exec.png?resize=768%2C512&amp;ssl=1 768w\" style=\"width:100%;height:100%;object-fit:cover;\" width=\"1536\"/></a>,\n",
       " <a href=\"https://edwarddonner.com/2025/05/18/2025-ai-executive-briefing/\" target=\"_self\">2025 AI Executive Briefing</a>,\n",
       " <a href=\"https://edwarddonner.com/2025/04/21/the-complete-agentic-ai-engineering-course/\" target=\"_self\"><img alt=\"The Complete Agentic AI Engineering Course\" class=\"attachment-post-thumbnail size-post-thumbnail wp-post-image\" data-attachment-id=\"1580\" data-comments-opened=\"1\" data-image-caption=\"\" data-image-description=\"\" data-image-meta='{\"aperture\":\"0\",\"credit\":\"\",\"camera\":\"\",\"caption\":\"\",\"created_timestamp\":\"0\",\"copyright\":\"\",\"focal_length\":\"0\",\"iso\":\"0\",\"shutter_speed\":\"0\",\"title\":\"\",\"orientation\":\"0\"}' data-image-title=\"Agentic AI\" data-large-file=\"https://i0.wp.com/edwarddonner.com/wp-content/uploads/2025/04/autonomy.png?fit=1024%2C683&amp;ssl=1\" data-medium-file=\"https://i0.wp.com/edwarddonner.com/wp-content/uploads/2025/04/autonomy.png?fit=300%2C200&amp;ssl=1\" data-orig-file=\"https://i0.wp.com/edwarddonner.com/wp-content/uploads/2025/04/autonomy.png?fit=1536%2C1024&amp;ssl=1\" data-orig-size=\"1536,1024\" data-permalink=\"https://edwarddonner.com/2025/04/21/the-complete-agentic-ai-engineering-course/autonomy/\" decoding=\"async\" height=\"1024\" sizes=\"(max-width: 1536px) 100vw, 1536px\" src=\"https://edwarddonner.com/wp-content/uploads/2025/04/autonomy.png\" srcset=\"https://i0.wp.com/edwarddonner.com/wp-content/uploads/2025/04/autonomy.png?w=1536&amp;ssl=1 1536w, https://i0.wp.com/edwarddonner.com/wp-content/uploads/2025/04/autonomy.png?resize=300%2C200&amp;ssl=1 300w, https://i0.wp.com/edwarddonner.com/wp-content/uploads/2025/04/autonomy.png?resize=1024%2C683&amp;ssl=1 1024w, https://i0.wp.com/edwarddonner.com/wp-content/uploads/2025/04/autonomy.png?resize=768%2C512&amp;ssl=1 768w\" style=\"width:100%;height:100%;object-fit:cover;\" width=\"1536\"/></a>,\n",
       " <a href=\"https://edwarddonner.com/2025/04/21/the-complete-agentic-ai-engineering-course/\" target=\"_self\">The Complete Agentic AI Engineering Course</a>,\n",
       " <a href=\"https://edwarddonner.com/2025/01/23/llm-workshop-hands-on-with-agents-resources/\" target=\"_self\"><img alt=\"LLM Workshop – Hands-on with Agents – resources\" class=\"attachment-post-thumbnail size-post-thumbnail wp-post-image\" data-attachment-id=\"1461\" data-comments-opened=\"1\" data-image-caption=\"&lt;p&gt;LLM Workshop&lt;/p&gt;\n",
       " \" data-image-description=\"\" data-image-meta='{\"aperture\":\"0\",\"credit\":\"\",\"camera\":\"\",\"caption\":\"\",\"created_timestamp\":\"0\",\"copyright\":\"\",\"focal_length\":\"0\",\"iso\":\"0\",\"shutter_speed\":\"0\",\"title\":\"\",\"orientation\":\"1\"}' data-image-title=\"LLM Workshop\" data-large-file=\"https://i0.wp.com/edwarddonner.com/wp-content/uploads/2025/01/handson.jpg?fit=1024%2C585&amp;ssl=1\" data-medium-file=\"https://i0.wp.com/edwarddonner.com/wp-content/uploads/2025/01/handson.jpg?fit=300%2C171&amp;ssl=1\" data-orig-file=\"https://i0.wp.com/edwarddonner.com/wp-content/uploads/2025/01/handson.jpg?fit=1792%2C1024&amp;ssl=1\" data-orig-size=\"1792,1024\" data-permalink=\"https://edwarddonner.com/2025/01/23/llm-workshop-hands-on-with-agents-resources/handson/\" decoding=\"async\" height=\"1024\" loading=\"lazy\" sizes=\"auto, (max-width: 1792px) 100vw, 1792px\" src=\"https://edwarddonner.com/wp-content/uploads/2025/01/handson.jpg\" srcset=\"https://i0.wp.com/edwarddonner.com/wp-content/uploads/2025/01/handson.jpg?w=1792&amp;ssl=1 1792w, https://i0.wp.com/edwarddonner.com/wp-content/uploads/2025/01/handson.jpg?resize=300%2C171&amp;ssl=1 300w, https://i0.wp.com/edwarddonner.com/wp-content/uploads/2025/01/handson.jpg?resize=1024%2C585&amp;ssl=1 1024w, https://i0.wp.com/edwarddonner.com/wp-content/uploads/2025/01/handson.jpg?resize=768%2C439&amp;ssl=1 768w, https://i0.wp.com/edwarddonner.com/wp-content/uploads/2025/01/handson.jpg?resize=1536%2C878&amp;ssl=1 1536w\" style=\"width:100%;height:100%;object-fit:cover;\" width=\"1792\"/></a>,\n",
       " <a href=\"https://edwarddonner.com/2025/01/23/llm-workshop-hands-on-with-agents-resources/\" target=\"_self\">LLM Workshop – Hands-on with Agents – resources</a>,\n",
       " <a aria-current=\"page\" class=\"wp-block-navigation-item__content\" href=\"https://edwarddonner.com/\"><span class=\"wp-block-navigation-item__label\">Home</span></a>,\n",
       " <a class=\"wp-block-navigation-item__content\" href=\"https://edwarddonner.com/connect-four/\"><span class=\"wp-block-navigation-item__label\">Connect Four</span></a>,\n",
       " <a class=\"wp-block-navigation-item__content\" href=\"https://edwarddonner.com/outsmart/\" title=\"Outsmart\"><span class=\"wp-block-navigation-item__label\">Outsmart</span><span class=\"wp-block-navigation-item__description\">An arena that pits LLMs against each other in a battle of diplomacy and deviousness</span></a>,\n",
       " <a class=\"wp-block-navigation-item__content\" href=\"https://edwarddonner.com/about-me-and-about-nebula/\"><span class=\"wp-block-navigation-item__label\">About</span></a>,\n",
       " <a class=\"wp-block-navigation-item__content\" href=\"https://edwarddonner.com/posts/\"><span class=\"wp-block-navigation-item__label\">Posts</span></a>,\n",
       " <a href=\"mailto:hello@mygroovydomain.com\">www.edwarddonner.com</a>,\n",
       " <a class=\"wp-block-social-link-anchor\" href=\"https://www.linkedin.com/in/eddonner/\" rel=\"noopener nofollow\" target=\"_blank\"><svg aria-hidden=\"true\" focusable=\"false\" height=\"24\" version=\"1.1\" viewbox=\"0 0 24 24\" width=\"24\" xmlns=\"http://www.w3.org/2000/svg\"><path d=\"M19.7,3H4.3C3.582,3,3,3.582,3,4.3v15.4C3,20.418,3.582,21,4.3,21h15.4c0.718,0,1.3-0.582,1.3-1.3V4.3 C21,3.582,20.418,3,19.7,3z M8.339,18.338H5.667v-8.59h2.672V18.338z M7.004,8.574c-0.857,0-1.549-0.694-1.549-1.548 c0-0.855,0.691-1.548,1.549-1.548c0.854,0,1.547,0.694,1.547,1.548C8.551,7.881,7.858,8.574,7.004,8.574z M18.339,18.338h-2.669 v-4.177c0-0.996-0.017-2.278-1.387-2.278c-1.389,0-1.601,1.086-1.601,2.206v4.249h-2.667v-8.59h2.559v1.174h0.037 c0.356-0.675,1.227-1.387,2.526-1.387c2.703,0,3.203,1.779,3.203,4.092V18.338z\"></path></svg><span class=\"wp-block-social-link-label screen-reader-text\">LinkedIn</span></a>,\n",
       " <a class=\"wp-block-social-link-anchor\" href=\"https://twitter.com/edwarddonner\" rel=\"noopener nofollow\" target=\"_blank\"><svg aria-hidden=\"true\" focusable=\"false\" height=\"24\" version=\"1.1\" viewbox=\"0 0 24 24\" width=\"24\" xmlns=\"http://www.w3.org/2000/svg\"><path d=\"M22.23,5.924c-0.736,0.326-1.527,0.547-2.357,0.646c0.847-0.508,1.498-1.312,1.804-2.27 c-0.793,0.47-1.671,0.812-2.606,0.996C18.324,4.498,17.257,4,16.077,4c-2.266,0-4.103,1.837-4.103,4.103 c0,0.322,0.036,0.635,0.106,0.935C8.67,8.867,5.647,7.234,3.623,4.751C3.27,5.357,3.067,6.062,3.067,6.814 c0,1.424,0.724,2.679,1.825,3.415c-0.673-0.021-1.305-0.206-1.859-0.513c0,0.017,0,0.034,0,0.052c0,1.988,1.414,3.647,3.292,4.023 c-0.344,0.094-0.707,0.144-1.081,0.144c-0.264,0-0.521-0.026-0.772-0.074c0.522,1.63,2.038,2.816,3.833,2.85 c-1.404,1.1-3.174,1.756-5.096,1.756c-0.331,0-0.658-0.019-0.979-0.057c1.816,1.164,3.973,1.843,6.29,1.843 c7.547,0,11.675-6.252,11.675-11.675c0-0.178-0.004-0.355-0.012-0.531C20.985,7.47,21.68,6.747,22.23,5.924z\"></path></svg><span class=\"wp-block-social-link-label screen-reader-text\">Twitter</span></a>,\n",
       " <a class=\"wp-block-social-link-anchor\" href=\"https://www.facebook.com/edward.donner.52\" rel=\"noopener nofollow\" target=\"_blank\"><svg aria-hidden=\"true\" focusable=\"false\" height=\"24\" version=\"1.1\" viewbox=\"0 0 24 24\" width=\"24\" xmlns=\"http://www.w3.org/2000/svg\"><path d=\"M12 2C6.5 2 2 6.5 2 12c0 5 3.7 9.1 8.4 9.9v-7H7.9V12h2.5V9.8c0-2.5 1.5-3.9 3.8-3.9 1.1 0 2.2.2 2.2.2v2.5h-1.3c-1.2 0-1.6.8-1.6 1.6V12h2.8l-.4 2.9h-2.3v7C18.3 21.1 22 17 22 12c0-5.5-4.5-10-10-10z\"></path></svg><span class=\"wp-block-social-link-label screen-reader-text\">Facebook</span></a>]"
      ]
     },
     "execution_count": 118,
     "metadata": {},
     "output_type": "execute_result"
    }
   ],
   "source": [
    "soup1.find_all('a')"
   ]
  },
  {
   "cell_type": "code",
   "execution_count": 123,
   "id": "c2ea0ae1-6ca7-42be-b19c-ab2d78b955bd",
   "metadata": {},
   "outputs": [
    {
     "name": "stdout",
     "output_type": "stream",
     "text": [
      "https://edwarddonner.com/\n",
      "https://edwarddonner.com/connect-four/\n",
      "https://edwarddonner.com/outsmart/\n",
      "https://edwarddonner.com/about-me-and-about-nebula/\n",
      "https://edwarddonner.com/posts/\n",
      "https://edwarddonner.com/\n",
      "https://news.ycombinator.com\n",
      "https://nebula.io/?utm_source=ed&utm_medium=referral\n",
      "https://www.prnewswire.com/news-releases/wynden-stark-group-acquires-nyc-venture-backed-tech-startup-untapt-301269512.html\n",
      "https://patents.google.com/patent/US20210049536A1/\n",
      "https://www.linkedin.com/in/eddonner/\n",
      "https://edwarddonner.com/2025/05/28/connecting-my-courses-become-an-llm-expert-and-leader/\n",
      "https://edwarddonner.com/2025/05/28/connecting-my-courses-become-an-llm-expert-and-leader/\n",
      "https://edwarddonner.com/2025/05/18/2025-ai-executive-briefing/\n",
      "https://edwarddonner.com/2025/05/18/2025-ai-executive-briefing/\n",
      "https://edwarddonner.com/2025/04/21/the-complete-agentic-ai-engineering-course/\n",
      "https://edwarddonner.com/2025/04/21/the-complete-agentic-ai-engineering-course/\n",
      "https://edwarddonner.com/2025/01/23/llm-workshop-hands-on-with-agents-resources/\n",
      "https://edwarddonner.com/2025/01/23/llm-workshop-hands-on-with-agents-resources/\n",
      "https://edwarddonner.com/\n",
      "https://edwarddonner.com/connect-four/\n",
      "https://edwarddonner.com/outsmart/\n",
      "https://edwarddonner.com/about-me-and-about-nebula/\n",
      "https://edwarddonner.com/posts/\n",
      "mailto:hello@mygroovydomain.com\n",
      "https://www.linkedin.com/in/eddonner/\n",
      "https://twitter.com/edwarddonner\n",
      "https://www.facebook.com/edward.donner.52\n"
     ]
    }
   ],
   "source": [
    "all_link_1 = soup1.find_all('a')\n",
    "for link in all_link_1:\n",
    "    print(link.get('href'))"
   ]
  },
  {
   "cell_type": "code",
   "execution_count": 125,
   "id": "cbfec9a0-c9dd-4d4e-be0a-6ede67269e5a",
   "metadata": {},
   "outputs": [
    {
     "name": "stdout",
     "output_type": "stream",
     "text": [
      "mailto:timing@hubertiming.com\n",
      "https://www.hubertiming.com\n",
      "/results/2017GPTR\n",
      "/results/team/2017GPTR\n",
      "/results/team/2017GPTR10K\n",
      "/results/summary/2017GPTR10K\n",
      "None\n",
      "#tabs-1\n",
      "https://www.hubertiming.com/\n",
      "https://facebook.com/hubertiming/\n"
     ]
    }
   ],
   "source": [
    "all_link = soup.find_all('a')\n",
    "for link in all_link:\n",
    "    print(link.get('href'))"
   ]
  },
  {
   "cell_type": "code",
   "execution_count": 127,
   "id": "853b672e-3ff0-478c-8880-438ab0752cd9",
   "metadata": {},
   "outputs": [
    {
     "name": "stdout",
     "output_type": "stream",
     "text": [
      "[<tr colspan=\"2\">\n",
      "<b>10K:</b>\n",
      "</tr>, <tr>\n",
      "<td>Finishers:</td>\n",
      "<td>577</td>\n",
      "</tr>, <tr>\n",
      "<td>Male:</td>\n",
      "<td>414</td>\n",
      "</tr>, <tr>\n",
      "<td>Female:</td>\n",
      "<td>163</td>\n",
      "</tr>, <tr class=\"header\">\n",
      "<th>Place</th>\n",
      "<th>Bib</th>\n",
      "<th>Name</th>\n",
      "<th>Gender</th>\n",
      "<th>City</th>\n",
      "<th>State</th>\n",
      "<th>Time</th>\n",
      "<th>Gun Time</th>\n",
      "<th>Team</th>\n",
      "</tr>, <tr class=\"\" data-bib=\"814\">\n",
      "<td>1</td>\n",
      "<td>814</td>\n",
      "<td>\n",
      "\n",
      "                    JARED WILSON\n",
      "\n",
      "                </td>\n",
      "<td>M</td>\n",
      "<td>TIGARD</td>\n",
      "<td>OR</td>\n",
      "<td>36:21</td>\n",
      "<td>36:24</td>\n",
      "<td></td>\n",
      "</tr>, <tr class=\"\" data-bib=\"573\">\n",
      "<td>2</td>\n",
      "<td>573</td>\n",
      "<td>\n",
      "\n",
      "                    NATHAN A SUSTERSIC\n",
      "\n",
      "                </td>\n",
      "<td>M</td>\n",
      "<td>PORTLAND</td>\n",
      "<td>OR</td>\n",
      "<td>36:42</td>\n",
      "<td>36:45</td>\n",
      "<td>\n",
      "<img class=\"lazy teamThumbs\" data-src=\"/teamLogoThumbnail/logo?teamName=INTEL%20TEAM%20F&amp;raceId=1251&amp;state=OR\"/>\n",
      "                            INTEL TEAM F\n",
      "                        </td>\n",
      "</tr>, <tr class=\"\" data-bib=\"687\">\n",
      "<td>3</td>\n",
      "<td>687</td>\n",
      "<td>\n",
      "\n",
      "                    FRANCISCO MAYA\n",
      "\n",
      "                </td>\n",
      "<td>M</td>\n",
      "<td>PORTLAND</td>\n",
      "<td>OR</td>\n",
      "<td>37:44</td>\n",
      "<td>37:48</td>\n",
      "<td></td>\n",
      "</tr>, <tr class=\"\" data-bib=\"623\">\n",
      "<td>4</td>\n",
      "<td>623</td>\n",
      "<td>\n",
      "\n",
      "                    PAUL MORROW\n",
      "\n",
      "                </td>\n",
      "<td>M</td>\n",
      "<td>BEAVERTON</td>\n",
      "<td>OR</td>\n",
      "<td>38:34</td>\n",
      "<td>38:37</td>\n",
      "<td></td>\n",
      "</tr>, <tr class=\"\" data-bib=\"569\">\n",
      "<td>5</td>\n",
      "<td>569</td>\n",
      "<td>\n",
      "\n",
      "                    DEREK G OSBORNE\n",
      "\n",
      "                </td>\n",
      "<td>M</td>\n",
      "<td>HILLSBORO</td>\n",
      "<td>OR</td>\n",
      "<td>39:21</td>\n",
      "<td>39:24</td>\n",
      "<td>\n",
      "<img class=\"lazy teamThumbs\" data-src=\"/teamLogoThumbnail/logo?teamName=INTEL%20TEAM%20F&amp;raceId=1251&amp;state=OR\"/>\n",
      "                            INTEL TEAM F\n",
      "                        </td>\n",
      "</tr>]\n"
     ]
    }
   ],
   "source": [
    "all_rows_1 = soup.find_all('tr')\n",
    "# for row in all_rows_1:\n",
    "#     print(row.get())\n",
    "\n",
    "print(all_rows_1[:10])"
   ]
  }
 ],
 "metadata": {
  "kernelspec": {
   "display_name": "Python [conda env:base] *",
   "language": "python",
   "name": "conda-base-py"
  },
  "language_info": {
   "codemirror_mode": {
    "name": "ipython",
    "version": 3
   },
   "file_extension": ".py",
   "mimetype": "text/x-python",
   "name": "python",
   "nbconvert_exporter": "python",
   "pygments_lexer": "ipython3",
   "version": "3.12.7"
  }
 },
 "nbformat": 4,
 "nbformat_minor": 5
}
