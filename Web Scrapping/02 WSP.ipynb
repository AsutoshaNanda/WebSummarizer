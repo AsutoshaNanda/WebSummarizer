{
 "cells": [
  {
   "cell_type": "code",
   "execution_count": 66,
   "id": "cfe5cf53-2095-4bc0-8ee9-24ab61db99b7",
   "metadata": {},
   "outputs": [],
   "source": [
    "from urllib.request import urlopen\n",
    "from bs4 import BeautifulSoup\n",
    "import requests"
   ]
  },
  {
   "cell_type": "code",
   "execution_count": 4,
   "id": "a4593c74-a0cb-4771-917d-b79e5578c9a9",
   "metadata": {},
   "outputs": [
    {
     "name": "stdout",
     "output_type": "stream",
     "text": [
      "Name: requests\n",
      "Version: 2.32.3\n",
      "Summary: Python HTTP for Humans.\n",
      "Home-page: https://requests.readthedocs.io\n",
      "Author: Kenneth Reitz\n",
      "Author-email: me@kennethreitz.org\n",
      "License: Apache-2.0\n",
      "Location: /opt/anaconda3/lib/python3.12/site-packages\n",
      "Requires: certifi, charset-normalizer, idna, urllib3\n",
      "Required-by: aext-assistant-server, alpha_vantage, anaconda-auth, anaconda-catalogs, anaconda-client, anaconda-project, conda, conda-build, conda-repo-cli, conda_package_streaming, cookiecutter, dash, databricks-cli, datashader, huggingface-hub, jupyterlab_server, panel, requests-file, requests-toolbelt, Sphinx, streamlit, tldextract, transformers, yfinance\n",
      "Note: you may need to restart the kernel to use updated packages.\n"
     ]
    }
   ],
   "source": [
    "pip show requests"
   ]
  },
  {
   "cell_type": "code",
   "execution_count": 6,
   "id": "0caf6cda-ad48-435f-8607-309b2844daa2",
   "metadata": {},
   "outputs": [],
   "source": [
    "payload ={\n",
    "    'id': 10,\n",
    "    'username' : \"Moriah.Stanton\"\n",
    "}"
   ]
  },
  {
   "cell_type": "code",
   "execution_count": 8,
   "id": "c2c3f417-5858-4676-87a7-48f59c19a8e4",
   "metadata": {},
   "outputs": [],
   "source": [
    "res=requests.get('https://jsonplaceholder.typicode.com/users',params=payload)"
   ]
  },
  {
   "cell_type": "code",
   "execution_count": 9,
   "id": "ecdd5d8e-367b-420e-95f0-588ee2484ff9",
   "metadata": {},
   "outputs": [],
   "source": [
    "rep = requests.post('https://jsonplaceholder.typicode.com/users',params=payload)"
   ]
  },
  {
   "cell_type": "code",
   "execution_count": 10,
   "id": "70dd4763-9d36-44ed-83a9-b5d40ce2801b",
   "metadata": {},
   "outputs": [],
   "source": [
    "repu = requests.put('https://jsonplaceholder.typicode.com/users',params=payload)"
   ]
  },
  {
   "cell_type": "code",
   "execution_count": 13,
   "id": "34eb4dff-b791-4b09-b6fb-183c960c84aa",
   "metadata": {},
   "outputs": [
    {
     "name": "stdout",
     "output_type": "stream",
     "text": [
      "<Response [200]>\n",
      "b'[\\n  {\\n    \"id\": 1,\\n    \"name\": \"Leanne Graham\",\\n    \"username\": \"Bret\",\\n    \"email\": \"Sincere@april.biz\",\\n    \"address\": {\\n      \"street\": \"Kulas Light\",\\n      \"suite\": \"Apt. 556\",\\n      \"city\": \"Gwenborough\",\\n      \"zipcode\": \"92998-3874\",\\n      \"geo\": {\\n        \"lat\": \"-37.3159\",\\n        \"lng\": \"81.1496\"\\n      }\\n    },\\n    \"phone\": \"1-770-736-8031 x56442\",\\n    \"website\": \"hildegard.org\",\\n    \"company\": {\\n      \"name\": \"Romaguera-Crona\",\\n      \"catchPhrase\": \"Multi-layered client-server neural-net\",\\n      \"bs\": \"harness real-time e-markets\"\\n    }\\n  },\\n  {\\n    \"id\": 2,\\n    \"name\": \"Ervin Howell\",\\n    \"username\": \"Antonette\",\\n    \"email\": \"Shanna@melissa.tv\",\\n    \"address\": {\\n      \"street\": \"Victor Plains\",\\n      \"suite\": \"Suite 879\",\\n      \"city\": \"Wisokyburgh\",\\n      \"zipcode\": \"90566-7771\",\\n      \"geo\": {\\n        \"lat\": \"-43.9509\",\\n        \"lng\": \"-34.4618\"\\n      }\\n    },\\n    \"phone\": \"010-692-6593 x09125\",\\n    \"website\": \"anastasia.net\",\\n    \"company\": {\\n      \"name\": \"Deckow-Crist\",\\n      \"catchPhrase\": \"Proactive didactic contingency\",\\n      \"bs\": \"synergize scalable supply-chains\"\\n    }\\n  },\\n  {\\n    \"id\": 3,\\n    \"name\": \"Clementine Bauch\",\\n    \"username\": \"Samantha\",\\n    \"email\": \"Nathan@yesenia.net\",\\n    \"address\": {\\n      \"street\": \"Douglas Extension\",\\n      \"suite\": \"Suite 847\",\\n      \"city\": \"McKenziehaven\",\\n      \"zipcode\": \"59590-4157\",\\n      \"geo\": {\\n        \"lat\": \"-68.6102\",\\n        \"lng\": \"-47.0653\"\\n      }\\n    },\\n    \"phone\": \"1-463-123-4447\",\\n    \"website\": \"ramiro.info\",\\n    \"company\": {\\n      \"name\": \"Romaguera-Jacobson\",\\n      \"catchPhrase\": \"Face to face bifurcated interface\",\\n      \"bs\": \"e-enable strategic applications\"\\n    }\\n  },\\n  {\\n    \"id\": 4,\\n    \"name\": \"Patricia Lebsack\",\\n    \"username\": \"Karianne\",\\n    \"email\": \"Julianne.OConner@kory.org\",\\n    \"address\": {\\n      \"street\": \"Hoeger Mall\",\\n      \"suite\": \"Apt. 692\",\\n      \"city\": \"South Elvis\",\\n      \"zipcode\": \"53919-4257\",\\n      \"geo\": {\\n        \"lat\": \"29.4572\",\\n        \"lng\": \"-164.2990\"\\n      }\\n    },\\n    \"phone\": \"493-170-9623 x156\",\\n    \"website\": \"kale.biz\",\\n    \"company\": {\\n      \"name\": \"Robel-Corkery\",\\n      \"catchPhrase\": \"Multi-tiered zero tolerance productivity\",\\n      \"bs\": \"transition cutting-edge web services\"\\n    }\\n  },\\n  {\\n    \"id\": 5,\\n    \"name\": \"Chelsey Dietrich\",\\n    \"username\": \"Kamren\",\\n    \"email\": \"Lucio_Hettinger@annie.ca\",\\n    \"address\": {\\n      \"street\": \"Skiles Walks\",\\n      \"suite\": \"Suite 351\",\\n      \"city\": \"Roscoeview\",\\n      \"zipcode\": \"33263\",\\n      \"geo\": {\\n        \"lat\": \"-31.8129\",\\n        \"lng\": \"62.5342\"\\n      }\\n    },\\n    \"phone\": \"(254)954-1289\",\\n    \"website\": \"demarco.info\",\\n    \"company\": {\\n      \"name\": \"Keebler LLC\",\\n      \"catchPhrase\": \"User-centric fault-tolerant solution\",\\n      \"bs\": \"revolutionize end-to-end systems\"\\n    }\\n  },\\n  {\\n    \"id\": 6,\\n    \"name\": \"Mrs. Dennis Schulist\",\\n    \"username\": \"Leopoldo_Corkery\",\\n    \"email\": \"Karley_Dach@jasper.info\",\\n    \"address\": {\\n      \"street\": \"Norberto Crossing\",\\n      \"suite\": \"Apt. 950\",\\n      \"city\": \"South Christy\",\\n      \"zipcode\": \"23505-1337\",\\n      \"geo\": {\\n        \"lat\": \"-71.4197\",\\n        \"lng\": \"71.7478\"\\n      }\\n    },\\n    \"phone\": \"1-477-935-8478 x6430\",\\n    \"website\": \"ola.org\",\\n    \"company\": {\\n      \"name\": \"Considine-Lockman\",\\n      \"catchPhrase\": \"Synchronised bottom-line interface\",\\n      \"bs\": \"e-enable innovative applications\"\\n    }\\n  },\\n  {\\n    \"id\": 7,\\n    \"name\": \"Kurtis Weissnat\",\\n    \"username\": \"Elwyn.Skiles\",\\n    \"email\": \"Telly.Hoeger@billy.biz\",\\n    \"address\": {\\n      \"street\": \"Rex Trail\",\\n      \"suite\": \"Suite 280\",\\n      \"city\": \"Howemouth\",\\n      \"zipcode\": \"58804-1099\",\\n      \"geo\": {\\n        \"lat\": \"24.8918\",\\n        \"lng\": \"21.8984\"\\n      }\\n    },\\n    \"phone\": \"210.067.6132\",\\n    \"website\": \"elvis.io\",\\n    \"company\": {\\n      \"name\": \"Johns Group\",\\n      \"catchPhrase\": \"Configurable multimedia task-force\",\\n      \"bs\": \"generate enterprise e-tailers\"\\n    }\\n  },\\n  {\\n    \"id\": 8,\\n    \"name\": \"Nicholas Runolfsdottir V\",\\n    \"username\": \"Maxime_Nienow\",\\n    \"email\": \"Sherwood@rosamond.me\",\\n    \"address\": {\\n      \"street\": \"Ellsworth Summit\",\\n      \"suite\": \"Suite 729\",\\n      \"city\": \"Aliyaview\",\\n      \"zipcode\": \"45169\",\\n      \"geo\": {\\n        \"lat\": \"-14.3990\",\\n        \"lng\": \"-120.7677\"\\n      }\\n    },\\n    \"phone\": \"586.493.6943 x140\",\\n    \"website\": \"jacynthe.com\",\\n    \"company\": {\\n      \"name\": \"Abernathy Group\",\\n      \"catchPhrase\": \"Implemented secondary concept\",\\n      \"bs\": \"e-enable extensible e-tailers\"\\n    }\\n  },\\n  {\\n    \"id\": 9,\\n    \"name\": \"Glenna Reichert\",\\n    \"username\": \"Delphine\",\\n    \"email\": \"Chaim_McDermott@dana.io\",\\n    \"address\": {\\n      \"street\": \"Dayna Park\",\\n      \"suite\": \"Suite 449\",\\n      \"city\": \"Bartholomebury\",\\n      \"zipcode\": \"76495-3109\",\\n      \"geo\": {\\n        \"lat\": \"24.6463\",\\n        \"lng\": \"-168.8889\"\\n      }\\n    },\\n    \"phone\": \"(775)976-6794 x41206\",\\n    \"website\": \"conrad.com\",\\n    \"company\": {\\n      \"name\": \"Yost and Sons\",\\n      \"catchPhrase\": \"Switchable contextually-based project\",\\n      \"bs\": \"aggregate real-time technologies\"\\n    }\\n  },\\n  {\\n    \"id\": 10,\\n    \"name\": \"Clementina DuBuque\",\\n    \"username\": \"Moriah.Stanton\",\\n    \"email\": \"Rey.Padberg@karina.biz\",\\n    \"address\": {\\n      \"street\": \"Kattie Turnpike\",\\n      \"suite\": \"Suite 198\",\\n      \"city\": \"Lebsackbury\",\\n      \"zipcode\": \"31428-2261\",\\n      \"geo\": {\\n        \"lat\": \"-38.2386\",\\n        \"lng\": \"57.2232\"\\n      }\\n    },\\n    \"phone\": \"024-648-3804\",\\n    \"website\": \"ambrose.net\",\\n    \"company\": {\\n      \"name\": \"Hoeger LLC\",\\n      \"catchPhrase\": \"Centralized empowering task-force\",\\n      \"bs\": \"target end-to-end models\"\\n    }\\n  }\\n]'\n"
     ]
    }
   ],
   "source": [
    "get_data= requests.get('https://jsonplaceholder.typicode.com/users')\n",
    "print(get_data)\n",
    "print(get_data.content)"
   ]
  },
  {
   "cell_type": "code",
   "execution_count": 16,
   "id": "fdaf93e7-1373-45b0-88e3-12318d4ead35",
   "metadata": {},
   "outputs": [
    {
     "name": "stdout",
     "output_type": "stream",
     "text": [
      "b'[\\n  {\\n    \"id\": 10,\\n    \"name\": \"Clementina DuBuque\",\\n    \"username\": \"Moriah.Stanton\",\\n    \"email\": \"Rey.Padberg@karina.biz\",\\n    \"address\": {\\n      \"street\": \"Kattie Turnpike\",\\n      \"suite\": \"Suite 198\",\\n      \"city\": \"Lebsackbury\",\\n      \"zipcode\": \"31428-2261\",\\n      \"geo\": {\\n        \"lat\": \"-38.2386\",\\n        \"lng\": \"57.2232\"\\n      }\\n    },\\n    \"phone\": \"024-648-3804\",\\n    \"website\": \"ambrose.net\",\\n    \"company\": {\\n      \"name\": \"Hoeger LLC\",\\n      \"catchPhrase\": \"Centralized empowering task-force\",\\n      \"bs\": \"target end-to-end models\"\\n    }\\n  }\\n]'\n"
     ]
    }
   ],
   "source": [
    "get_10 = requests.get('https://jsonplaceholder.typicode.com/users',params=payload)\n",
    "print(get_10.content)"
   ]
  },
  {
   "cell_type": "code",
   "execution_count": 18,
   "id": "b10d5fea-8fa4-481a-91e7-22c8c45d70ac",
   "metadata": {},
   "outputs": [
    {
     "name": "stdout",
     "output_type": "stream",
     "text": [
      "https://jsonplaceholder.typicode.com/users?id=10&username=Moriah.Stanton\n"
     ]
    }
   ],
   "source": [
    "print(get_10.url)"
   ]
  },
  {
   "cell_type": "code",
   "execution_count": 20,
   "id": "d3adc405-b627-49f6-91b2-ae5470e384c4",
   "metadata": {},
   "outputs": [
    {
     "name": "stdout",
     "output_type": "stream",
     "text": [
      "[\n",
      "  {\n",
      "    \"id\": 10,\n",
      "    \"name\": \"Clementina DuBuque\",\n",
      "    \"username\": \"Moriah.Stanton\",\n",
      "    \"email\": \"Rey.Padberg@karina.biz\",\n",
      "    \"address\": {\n",
      "      \"street\": \"Kattie Turnpike\",\n",
      "      \"suite\": \"Suite 198\",\n",
      "      \"city\": \"Lebsackbury\",\n",
      "      \"zipcode\": \"31428-2261\",\n",
      "      \"geo\": {\n",
      "        \"lat\": \"-38.2386\",\n",
      "        \"lng\": \"57.2232\"\n",
      "      }\n",
      "    },\n",
      "    \"phone\": \"024-648-3804\",\n",
      "    \"website\": \"ambrose.net\",\n",
      "    \"company\": {\n",
      "      \"name\": \"Hoeger LLC\",\n",
      "      \"catchPhrase\": \"Centralized empowering task-force\",\n",
      "      \"bs\": \"target end-to-end models\"\n",
      "    }\n",
      "  }\n",
      "]\n"
     ]
    }
   ],
   "source": [
    "print(get_10.text)"
   ]
  },
  {
   "cell_type": "code",
   "execution_count": 22,
   "id": "021165ac-d2a9-4705-aab1-87bf76cf575f",
   "metadata": {},
   "outputs": [
    {
     "name": "stdout",
     "output_type": "stream",
     "text": [
      "[{'id': 10, 'name': 'Clementina DuBuque', 'username': 'Moriah.Stanton', 'email': 'Rey.Padberg@karina.biz', 'address': {'street': 'Kattie Turnpike', 'suite': 'Suite 198', 'city': 'Lebsackbury', 'zipcode': '31428-2261', 'geo': {'lat': '-38.2386', 'lng': '57.2232'}}, 'phone': '024-648-3804', 'website': 'ambrose.net', 'company': {'name': 'Hoeger LLC', 'catchPhrase': 'Centralized empowering task-force', 'bs': 'target end-to-end models'}}]\n"
     ]
    }
   ],
   "source": [
    "print(get_10.json())"
   ]
  },
  {
   "cell_type": "code",
   "execution_count": 24,
   "id": "46606e82-5286-48ea-bf4c-84ee4eef3d03",
   "metadata": {},
   "outputs": [
    {
     "name": "stdout",
     "output_type": "stream",
     "text": [
      "<urllib3.response.HTTPResponse object at 0x13f4e2260>\n"
     ]
    }
   ],
   "source": [
    "print(get_10.raw)"
   ]
  },
  {
   "cell_type": "code",
   "execution_count": 108,
   "id": "de59e39d-10d4-47b9-aac4-11e405da9fcb",
   "metadata": {},
   "outputs": [
    {
     "name": "stdout",
     "output_type": "stream",
     "text": [
      "{'Date': 'Fri, 22 Aug 2025 13:10:07 GMT', 'Content-Type': 'application/json; charset=utf-8', 'Transfer-Encoding': 'chunked', 'Connection': 'keep-alive', 'Access-Control-Allow-Credentials': 'true', 'Cache-Control': 'max-age=43200', 'Etag': 'W/\"231-uW7T4l6GoZHwP/3Ho5zhcQ8kGa4\"', 'Expires': '-1', 'Nel': '{\"report_to\":\"heroku-nel\",\"response_headers\":[\"Via\"],\"max_age\":3600,\"success_fraction\":0.01,\"failure_fraction\":0.1}', 'Pragma': 'no-cache', 'Report-To': '{\"group\":\"heroku-nel\",\"endpoints\":[{\"url\":\"https://nel.heroku.com/reports?s=myuHZ4jUuH%2FAEMCLqEZAYHFrtHVV%2F75jznRCSa8QBHA%3D\\\\u0026sid=e11707d5-02a7-43ef-b45e-2cf4d2036f7d\\\\u0026ts=1755868207\"}],\"max_age\":3600}', 'Reporting-Endpoints': 'heroku-nel=\"https://nel.heroku.com/reports?s=myuHZ4jUuH%2FAEMCLqEZAYHFrtHVV%2F75jznRCSa8QBHA%3D&sid=e11707d5-02a7-43ef-b45e-2cf4d2036f7d&ts=1755868207\"', 'Server': 'cloudflare', 'Vary': 'Origin, Accept-Encoding', 'Via': '2.0 heroku-router', 'X-Content-Type-Options': 'nosniff', 'X-Powered-By': 'Express', 'X-Ratelimit-Limit': '1000', 'X-Ratelimit-Remaining': '999', 'X-Ratelimit-Reset': '1755868262', 'Cf-Cache-Status': 'MISS', 'Content-Encoding': 'zstd', 'CF-RAY': '97329bc71953531c-MRS', 'alt-svc': 'h3=\":443\"; ma=86400'}\n"
     ]
    }
   ],
   "source": [
    "print(get_10.headers)"
   ]
  },
  {
   "cell_type": "code",
   "execution_count": 32,
   "id": "69a235b6-6bdf-4a51-82e4-011aefb3a02d",
   "metadata": {},
   "outputs": [],
   "source": [
    "headers = {\n",
    "    'Date':'Sat, 23 Aug 2025 13:10:07 GMT',\n",
    "    'x-user': 'test123',\n",
    "    'h3': '446'\n",
    "}"
   ]
  },
  {
   "cell_type": "code",
   "execution_count": 34,
   "id": "052e116d-1af3-4628-9439-db23ee802046",
   "metadata": {},
   "outputs": [
    {
     "name": "stdout",
     "output_type": "stream",
     "text": [
      "{'Date': 'Sat, 23 Aug 2025 11:12:22 GMT', 'Content-Type': 'application/json; charset=utf-8', 'Content-Length': '1847', 'Connection': 'keep-alive', 'Access-Control-Allow-Credentials': 'true', 'Cache-Control': 'max-age=43200', 'Content-Encoding': 'gzip', 'Etag': 'W/\"160d-1eMSsxeJRfnVLRBmYJSbCiJZ1qQ\"', 'Expires': '-1', 'Nel': '{\"report_to\":\"heroku-nel\",\"response_headers\":[\"Via\"],\"max_age\":3600,\"success_fraction\":0.01,\"failure_fraction\":0.1}', 'Pragma': 'no-cache', 'Report-To': '{\"group\":\"heroku-nel\",\"endpoints\":[{\"url\":\"https://nel.heroku.com/reports?s=eufG%2FY3xLRgyQE%2FZLB2IHDo%2BYMN%2BX3I8eZBiC9Bo8Ps%3D\\\\u0026sid=e11707d5-02a7-43ef-b45e-2cf4d2036f7d\\\\u0026ts=1751952578\"}],\"max_age\":3600}', 'Reporting-Endpoints': 'heroku-nel=\"https://nel.heroku.com/reports?s=eufG%2FY3xLRgyQE%2FZLB2IHDo%2BYMN%2BX3I8eZBiC9Bo8Ps%3D&sid=e11707d5-02a7-43ef-b45e-2cf4d2036f7d&ts=1751952578\"', 'Server': 'cloudflare', 'Vary': 'Origin, Accept-Encoding', 'Via': '2.0 heroku-router', 'X-Content-Type-Options': 'nosniff', 'X-Powered-By': 'Express', 'X-Ratelimit-Limit': '1000', 'X-Ratelimit-Remaining': '999', 'X-Ratelimit-Reset': '1751952624', 'Age': '18872', 'Cf-Cache-Status': 'HIT', 'CF-RAY': '973a2ca9edaefb87-AMS', 'alt-svc': 'h3=\":443\"; ma=86400'}\n"
     ]
    }
   ],
   "source": [
    "get_up=requests.get('https://jsonplaceholder.typicode.com/users',headers=headers)\n",
    "print(get_up.headers)"
   ]
  },
  {
   "cell_type": "code",
   "execution_count": 36,
   "id": "ce9574f3-0150-4249-ab4d-06249db6d0be",
   "metadata": {},
   "outputs": [
    {
     "name": "stdout",
     "output_type": "stream",
     "text": [
      "{'User-Agent': 'python-requests/2.32.3', 'Accept-Encoding': 'gzip, deflate, br, zstd', 'Accept': '*/*', 'Connection': 'keep-alive', 'Date': 'Sat, 23 Aug 2025 13:10:07 GMT', 'x-user': 'test123', 'h3': '446'}\n"
     ]
    }
   ],
   "source": [
    "print(get_up.request.headers)"
   ]
  },
  {
   "cell_type": "code",
   "execution_count": 38,
   "id": "b567151d-2cab-4b57-bcf1-83360d6ec51a",
   "metadata": {},
   "outputs": [
    {
     "name": "stdout",
     "output_type": "stream",
     "text": [
      "{\n",
      "  \"args\": {},\n",
      "  \"data\": {},\n",
      "  \"files\": {},\n",
      "  \"form\": {},\n",
      "  \"headers\": {\n",
      "    \"host\": \"postman-echo.com\",\n",
      "    \"x-request-start\": \"t1755947544.661\",\n",
      "    \"connection\": \"close\",\n",
      "    \"content-length\": \"0\",\n",
      "    \"x-forwarded-proto\": \"https\",\n",
      "    \"x-forwarded-port\": \"443\",\n",
      "    \"x-amzn-trace-id\": \"Root=1-68a9a218-4c230a060c7716b115e2ebb2\",\n",
      "    \"user-agent\": \"python-requests/2.32.3\",\n",
      "    \"accept-encoding\": \"gzip, deflate, br, zstd\",\n",
      "    \"accept\": \"*/*\"\n",
      "  },\n",
      "  \"json\": null,\n",
      "  \"url\": \"https://postman-echo.com/post\"\n",
      "}\n"
     ]
    }
   ],
   "source": [
    "rpost_new = requests.post('https://postman-echo.com/post')\n",
    "print(rpost_new.text)"
   ]
  },
  {
   "cell_type": "code",
   "execution_count": 39,
   "id": "4cc9b952-fcae-4d6b-a36b-81f94d04de0c",
   "metadata": {},
   "outputs": [
    {
     "name": "stdout",
     "output_type": "stream",
     "text": [
      "https://postman-echo.com/post\n"
     ]
    }
   ],
   "source": [
    "print(rpost_new.url)"
   ]
  },
  {
   "cell_type": "code",
   "execution_count": 42,
   "id": "1eca6310-5c53-4206-bfb1-c72ae4e08dac",
   "metadata": {},
   "outputs": [
    {
     "name": "stdout",
     "output_type": "stream",
     "text": [
      "{\n",
      "  \"args\": {\n",
      "    \"name\": \"ABC\",\n",
      "    \"email\": \"xyz@gmail.com\"\n",
      "  },\n",
      "  \"data\": {},\n",
      "  \"files\": {},\n",
      "  \"form\": {},\n",
      "  \"headers\": {\n",
      "    \"host\": \"postman-echo.com\",\n",
      "    \"x-request-start\": \"t1755947547.182\",\n",
      "    \"connection\": \"close\",\n",
      "    \"content-length\": \"0\",\n",
      "    \"x-forwarded-proto\": \"https\",\n",
      "    \"x-forwarded-port\": \"443\",\n",
      "    \"x-amzn-trace-id\": \"Root=1-68a9a21b-7ed090fe7993458f0fd0f2f8\",\n",
      "    \"user-agent\": \"python-requests/2.32.3\",\n",
      "    \"accept-encoding\": \"gzip, deflate, br, zstd\",\n",
      "    \"accept\": \"*/*\"\n",
      "  },\n",
      "  \"json\": null,\n",
      "  \"url\": \"https://postman-echo.com/post?name=ABC&email=xyz%40gmail.com\"\n",
      "}\n"
     ]
    }
   ],
   "source": [
    "new_payload = {'name': 'ABC', 'email':'xyz@gmail.com'}\n",
    "rpost_new_a = requests.post('https://postman-echo.com/post',params= new_payload)\n",
    "print(rpost_new_a.text)"
   ]
  },
  {
   "cell_type": "code",
   "execution_count": 44,
   "id": "4da9189e-529a-403c-b33b-6fef7265d916",
   "metadata": {},
   "outputs": [
    {
     "name": "stdout",
     "output_type": "stream",
     "text": [
      "https://postman-echo.com/post?name=ABC&email=xyz%40gmail.com\n"
     ]
    }
   ],
   "source": [
    "print(rpost_new_a.url)"
   ]
  },
  {
   "cell_type": "code",
   "execution_count": 158,
   "id": "014dc9ba-6c28-41bb-876f-2e927afb1390",
   "metadata": {},
   "outputs": [
    {
     "name": "stdout",
     "output_type": "stream",
     "text": [
      "{\n",
      "  \"args\": {},\n",
      "  \"data\": \"testing patch\",\n",
      "  \"files\": {},\n",
      "  \"form\": {},\n",
      "  \"headers\": {\n",
      "    \"host\": \"postman-echo.com\",\n",
      "    \"x-request-start\": \"t1755885175.808\",\n",
      "    \"connection\": \"close\",\n",
      "    \"content-length\": \"13\",\n",
      "    \"x-forwarded-proto\": \"https\",\n",
      "    \"x-forwarded-port\": \"443\",\n",
      "    \"x-amzn-trace-id\": \"Root=1-68a8ae77-06048597655a14e330f71603\",\n",
      "    \"user-agent\": \"python-requests/2.32.3\",\n",
      "    \"accept-encoding\": \"gzip, deflate, br, zstd\",\n",
      "    \"accept\": \"*/*\",\n",
      "    \"content-type\": \"application/json\"\n",
      "  },\n",
      "  \"json\": null,\n",
      "  \"url\": \"https://postman-echo.com/patch\"\n",
      "}\n"
     ]
    }
   ],
   "source": [
    "new_type= requests.patch('https://postman-echo.com/patch',data=\"testing patch\")\n",
    "print(new_type.text)"
   ]
  },
  {
   "cell_type": "code",
   "execution_count": 46,
   "id": "3f6e6a48-185d-425d-bbff-88ec1f142f6c",
   "metadata": {},
   "outputs": [
    {
     "name": "stdout",
     "output_type": "stream",
     "text": [
      "\n"
     ]
    }
   ],
   "source": [
    "req_delete = requests.delete('https://postman-echo.com/patch',data=\"testing delete\")\n",
    "print(req_delete.text)"
   ]
  },
  {
   "cell_type": "code",
   "execution_count": 47,
   "id": "500c136f-79e8-4398-ab7e-065f02f06846",
   "metadata": {},
   "outputs": [
    {
     "name": "stdout",
     "output_type": "stream",
     "text": [
      "{'Date': 'Sat, 23 Aug 2025 11:12:43 GMT', 'Content-Type': 'application/json; charset=utf-8', 'Content-Length': '14', 'Connection': 'keep-alive', 'Access-Control-Allow-Credentials': 'true', 'Access-Control-Expose-Headers': 'Location', 'Cache-Control': 'no-cache', 'Etag': 'W/\"e-HA6WWAG/c4REvZ4q9d0N16BTb2A\"', 'Expires': '-1', 'Location': 'https://jsonplaceholder.typicode.com/users?name=ABC&email=xyz%40gmail.com/11', 'Nel': '{\"report_to\":\"heroku-nel\",\"response_headers\":[\"Via\"],\"max_age\":3600,\"success_fraction\":0.01,\"failure_fraction\":0.1}', 'Pragma': 'no-cache', 'Report-To': '{\"group\":\"heroku-nel\",\"endpoints\":[{\"url\":\"https://nel.heroku.com/reports?s=g36iXfLHIfbWRr%2B1O8ofRLxC9MqKEjFLj4dlmnC7CRA%3D\\\\u0026sid=e11707d5-02a7-43ef-b45e-2cf4d2036f7d\\\\u0026ts=1755947563\"}],\"max_age\":3600}', 'Reporting-Endpoints': 'heroku-nel=\"https://nel.heroku.com/reports?s=g36iXfLHIfbWRr%2B1O8ofRLxC9MqKEjFLj4dlmnC7CRA%3D&sid=e11707d5-02a7-43ef-b45e-2cf4d2036f7d&ts=1755947563\"', 'Server': 'cloudflare', 'Vary': 'Origin, X-HTTP-Method-Override, Accept-Encoding', 'Via': '2.0 heroku-router', 'X-Content-Type-Options': 'nosniff', 'X-Powered-By': 'Express', 'X-Ratelimit-Limit': '1000', 'X-Ratelimit-Remaining': '999', 'X-Ratelimit-Reset': '1755947583', 'Cf-Cache-Status': 'DYNAMIC', 'CF-RAY': '973a2d2e2fc6db12-FRA', 'alt-svc': 'h3=\":443\"; ma=86400'}\n"
     ]
    }
   ],
   "source": [
    "get_type_1 = requests.post('https://jsonplaceholder.typicode.com/users',params=new_payload)\n",
    "print(get_type_1.headers)"
   ]
  },
  {
   "cell_type": "code",
   "execution_count": 50,
   "id": "be105842-27da-4326-b11c-2b7109ca1a7a",
   "metadata": {},
   "outputs": [
    {
     "name": "stdout",
     "output_type": "stream",
     "text": [
      "<RequestsCookieJar[]>\n"
     ]
    }
   ],
   "source": [
    "print(get_type_1.cookies)"
   ]
  },
  {
   "cell_type": "code",
   "execution_count": 54,
   "id": "a1dfda90-b999-4d7a-89a9-ddc19a27bf21",
   "metadata": {},
   "outputs": [],
   "source": [
    "cookies= {'test':'ABC123'}"
   ]
  },
  {
   "cell_type": "code",
   "execution_count": 60,
   "id": "615287a1-517f-47fe-a5e6-cf1602f16293",
   "metadata": {},
   "outputs": [
    {
     "name": "stdout",
     "output_type": "stream",
     "text": [
      "{\n",
      "  \"cookies\": {\n",
      "    \"test\": \"ABC123\"\n",
      "  }\n",
      "}\n",
      "\n"
     ]
    }
   ],
   "source": [
    "get_type = requests.get(\"https://httpbin.org/cookies\",cookies=cookies)\n",
    "print(get_type.text)"
   ]
  },
  {
   "cell_type": "code",
   "execution_count": 72,
   "id": "b1fb820f-5067-4803-a4f0-2d8f31f85927",
   "metadata": {},
   "outputs": [
    {
     "name": "stdout",
     "output_type": "stream",
     "text": [
      "{\n",
      "  \"userId\": 1,\n",
      "  \"id\": 1,\n",
      "  \"title\": \"sunt aut facere repellat provident occaecati excepturi optio reprehenderit\",\n",
      "  \"body\": \"quia et suscipit\\nsuscipit recusandae consequuntur expedita et cum\\nreprehenderit molestiae ut ut quas totam\\nnostrum rerum est autem sunt rem eveniet architecto\"\n",
      "}\n"
     ]
    }
   ],
   "source": [
    "response = requests.get(\"https://jsonplaceholder.typicode.com/posts/1\", timeout=10)\n",
    "print(response.text)"
   ]
  },
  {
   "cell_type": "code",
   "execution_count": 74,
   "id": "7c68c7a2-940a-4452-9115-95603bda0428",
   "metadata": {},
   "outputs": [
    {
     "name": "stdout",
     "output_type": "stream",
     "text": [
      "200\n"
     ]
    }
   ],
   "source": [
    "new_gt = requests.get('http://google.com/')\n",
    "print(new_gt.status_code)"
   ]
  },
  {
   "cell_type": "code",
   "execution_count": 76,
   "id": "789db123-4db4-46e7-a2b0-6ac647b35866",
   "metadata": {},
   "outputs": [
    {
     "name": "stdout",
     "output_type": "stream",
     "text": [
      "[<Response [301]>]\n"
     ]
    }
   ],
   "source": [
    "print(new_gt.history)"
   ]
  },
  {
   "cell_type": "code",
   "execution_count": 80,
   "id": "fcb6e7ce-21df-4df6-b014-7cee8842349c",
   "metadata": {},
   "outputs": [],
   "source": [
    "new_gt_fal = requests.get('http://google.com/',allow_redirects = False)"
   ]
  },
  {
   "cell_type": "code",
   "execution_count": 88,
   "id": "dc1f1590-222f-4b9f-83ff-2ff2f8c08426",
   "metadata": {},
   "outputs": [
    {
     "name": "stdout",
     "output_type": "stream",
     "text": [
      "301\n"
     ]
    }
   ],
   "source": [
    "print(new_gt_fal.status_code)"
   ]
  },
  {
   "cell_type": "code",
   "execution_count": 84,
   "id": "3c75d562-1a6e-4d20-8e6e-e1ed27509674",
   "metadata": {},
   "outputs": [
    {
     "name": "stdout",
     "output_type": "stream",
     "text": [
      "<HTML><HEAD><meta http-equiv=\"content-type\" content=\"text/html;charset=utf-8\">\n",
      "<TITLE>301 Moved</TITLE></HEAD><BODY>\n",
      "<H1>301 Moved</H1>\n",
      "The document has moved\n",
      "<A HREF=\"http://www.google.com/\">here</A>.\n",
      "</BODY></HTML>\n",
      "\n"
     ]
    }
   ],
   "source": [
    "print(new_gt_fal.text)"
   ]
  },
  {
   "cell_type": "code",
   "execution_count": 82,
   "id": "35ac000e-49e1-4d5e-a82a-dbe14600bb33",
   "metadata": {},
   "outputs": [
    {
     "name": "stdout",
     "output_type": "stream",
     "text": [
      "[]\n"
     ]
    }
   ],
   "source": [
    "print(new_gt_fal.history)"
   ]
  },
  {
   "cell_type": "code",
   "execution_count": 94,
   "id": "0083635d-a3a8-47a5-b92c-09b14d8b791e",
   "metadata": {},
   "outputs": [
    {
     "name": "stdout",
     "output_type": "stream",
     "text": [
      "[<Response [301]>]\n"
     ]
    }
   ],
   "source": [
    "print(new_gt.history)"
   ]
  },
  {
   "cell_type": "code",
   "execution_count": 96,
   "id": "df21d3f5-f7d5-4c6a-b878-80ef3a31446d",
   "metadata": {},
   "outputs": [
    {
     "name": "stdout",
     "output_type": "stream",
     "text": [
      "200\n",
      "<!doctype html><html itemscope=\"\" itemtype=\"http://schema.org/WebPage\" lang=\"en-IN\"><head><meta content=\"text/html; charset=UTF-8\" http-equiv=\"Content-Type\"><meta content=\"/images/branding/googleg/1x/googleg_standard_color_128dp.png\" itemprop=\"image\"><title>Google</title><script nonce=\"jQZby1Q0wugmtycGDDVCgw\">(function(){var _g={kEI:'5KmpaPLzKK3F5OUP2OKl4A8',kEXPI:'0,202854,2,3497484,1044,538661,14111,64702,217969,142932,290044,11106,5230576,36812642,25306698,60251,5482,4,8624,57131,8044,6750,23879,9138,4600,328,6225,63456,709,6748,8301,49,8156,3292,4134,30379,28334,54212,352,18880,3122,3,2745,3858,3856,5774,1201,15594,3205,7611,3050,2,1667,11805,2808,3443,35,3420,2864,10619,12108,2604,3079,3605,17771,2731,13640,1628,1279,4222,4,4,5746,3,5328,1753,931,5,2,4,915,3,1760,1215,1,3467,2,213,3975,7,479,1492,1032,1578,4506,353,6723,1,1070,7,1941,1915,731,103,4,1,321,780,4319,670,4102,4,2409,540,3175,2787,359,1,4671,2988,11030,1157,123,407,183,2,1,1380,31,104,578,542,2235,2,535,520,2301,538,555,126,104,1,1118,8,3,3,5,191,2,1282,65,5,1,506,175,128,42,3329,6,24,24,1244,849,178,3,4,2,846,684,1290,4,5,1,101,250,1621,9,1,2038,1205,1046,1465,1304,526,33,1,2,42,827,14,1013,2,101,538,3,574,259,288,1341,3053,12,136,15,333,780,1899,10,775,10,1696,216,430,1005,695,8,4,416,198,1137,495,937,1408,170,656,314,237,327,4,3,10,4,3,1558,604,3,260,97,63,1867,194,315,29,370,586,463,298,1938,512,753,7,4,266,241,5,167,587,32,1,1348,313,1293,1248,2,53,263,3,398,725,493,533,142,7,1138,4,230,102,209,263,20,575,1021,1976,666,502,50,90,115,209,29,189,25,133,663,133,752,314,100,11,529,1052,185,2,2,27,19,354,6,6,136,66,865,736,49,88,57,1,53,383,835,732,390,2,310,1,2,12,16,169,278,1,81,1346,375,13,50,43,11,903,111,389,652,44,66,577,3,39,178,1079,217,531,11,353,37,125,199,4,766,2,96,506,153,896,75,424,296,232,802,87,264,1629,25,5,624,2,501,366,21168403,5,2253,739,4,2701,259,3,1307,1343,587,5254,2,1558,3,2446,3,1927,101,2196,900,178,1839,57,197,1240,164,582,453,153,159,295,160,84,1026,6041793,11631,2431915,1769699,528770',kBL:'73NC',kOPI:89978449};(function(){var a;((a=window.google)==null?0:a.stvsc)?google.kEI=_g.kEI:window.google=_g;}).call(this);})();(function(){google.sn='webhp';google.kHL='en-IN';})();(function(){\n",
      "var g=this||self;function k(){return window.google&&window.google.kOPI||null};var l,m=[];function n(a){for(var b;a&&(!a.getAttribute||!(b=a.getAttribute(\"eid\")));)a=a.parentNode;return b||l}function p(a){for(var b=null;a&&(!a.getAttribute||!(b=a.getAttribute(\"leid\")));)a=a.parentNode;return b}function q(a){/^http:/i.test(a)&&window.location.protocol===\"https:\"&&(google.ml&&google.ml(Error(\"a\"),!1,{src:a,glmm:1}),a=\"\");return a}\n",
      "function r(a,b,d,c,h){var e=\"\";b.search(\"&ei=\")===-1&&(e=\"&ei=\"+n(c),b.search(\"&lei=\")===-1&&(c=p(c))&&(e+=\"&lei=\"+c));var f=b.search(\"&cshid=\")===-1&&a!==\"slh\";c=\"&zx=\"+Date.now().toString();g._cshid&&f&&(c+=\"&cshid=\"+g._cshid);(d=d())&&(c+=\"&opi=\"+d);return\"/\"+(h||\"gen_204\")+\"?atyp=i&ct=\"+String(a)+\"&cad=\"+(b+e+c)};l=google.kEI;google.getEI=n;google.getLEI=p;google.ml=function(){return null};google.log=function(a,b,d,c,h,e){e=e===void 0?k:e;d||(d=r(a,b,e,c,h));if(d=q(d)){a=new Image;var f=m.length;m[f]=a;a.onerror=a.onload=a.onabort=function(){delete m[f]};a.src=d}};google.logUrl=function(a,b){b=b===void 0?k:b;return r(\"\",a,b)};}).call(this);(function(){google.y={};google.sy={};function e(a,b,c){if(a)var d=a.id;else{do d=Math.random();while(c[d])}c[d]=[a,b]}var f;(f=google).x||(f.x=function(a,b){e(a,b,google.y)});var g;(g=google).sx||(g.sx=function(a,b){e(a,b,google.sy)});google.lm=[];var h;(h=google).plm||(h.plm=function(a){google.lm.push.apply(google.lm,a)});google.lq=[];var k;(k=google).load||(k.load=function(a,b,c){google.lq.push([[a],b,c])});var l;(l=google).loadAll||(l.loadAll=function(a,b){google.lq.push([a,b])});google.bx=!1;var m;(m=google).lx||(m.lx=function(){});var n=[],p;(p=google).fce||(p.fce=function(a,b,c,d){n.push([a,b,c,d])});google.qce=n;google.adl=[];}).call(this);google.f={};(function(){\n",
      "document.documentElement.addEventListener(\"submit\",function(b){var a;if(a=b.target){var c=a.getAttribute(\"data-submitfalse\");a=c===\"1\"||c===\"q\"&&!a.elements.q.value?!0:!1}else a=!1;a&&(b.preventDefault(),b.stopPropagation())},!0);document.documentElement.addEventListener(\"click\",function(b){var a;a:{for(a=b.target;a&&a!==document.documentElement;a=a.parentElement)if(a.tagName===\"A\"){a=a.getAttribute(\"data-nohref\")===\"1\";break a}a=!1}a&&b.preventDefault()},!0);}).call(this);</script><style>#gbar,#guser{font-size:13px;padding-top:1px !important;}#gbar{height:22px}#guser{padding-bottom:7px !important;text-align:right}.gbh,.gbd{border-top:1px solid #c9d7f1;font-size:1px}.gbh{height:0;position:absolute;top:24px;width:100%}@media all{.gb1{height:22px;margin-right:.5em;vertical-align:top}#gbar{float:left}}a.gb1,a.gb4{text-decoration:underline !important}a.gb1,a.gb4{color:#00c !important}.gbi .gb4{color:#dd8e27 !important}.gbf .gb4{color:#900 !important}\n",
      "</style><style>body,td,a,p,.h{font-family:sans-serif}body{margin:0;overflow-y:scroll}#gog{padding:3px 8px 0}td{line-height:.8em}.gac_m td{line-height:17px}form{margin-bottom:20px}.h{color:#1967d2}em{font-weight:bold;font-style:normal}.lst{height:25px;width:496px}.gsfi,.lst{font:18px sans-serif}.gsfs{font:17px sans-serif}.ds{display:inline-box;display:inline-block;margin:3px 0 4px;margin-left:4px}input{font-family:inherit}body{background:#fff;color:#1f1f1f}a{color:#681da8;text-decoration:none}a:hover,a:active{text-decoration:underline}.fl a{color:#1967d2}a:visited{color:#681da8}.sblc{padding-top:5px}.sblc a{display:block;margin:2px 0;margin-left:13px;font-size:11px}.lsbb{background:#f8f9fa;border:solid 1px;border-color:#dadce0 #70757a #70757a #dadce0;height:30px}.lsbb{display:block}#WqQANb a{display:inline-block;margin:0 12px}.lsb{background:url(/images/nav_logo229.png) 0 -261px repeat-x;color:#1f1f1f;border:none;cursor:pointer;height:30px;margin:0;outline:0;font:15px sans-serif;vertical-align:top}.lsb:active{background:#dadce0}.lst:focus{outline:none}</style><script nonce=\"jQZby1Q0wugmtycGDDVCgw\">(function(){window.google.erd={jsr:1,bv:2277,de:true,dpf:'XV7KFXoAvL6x6_Ws6wi7gPbVNmbVtkv3q6e-GXBc95Y'};\n",
      "var g=this||self;var k,l=(k=g.mei)!=null?k:1,m,p=(m=g.diel)!=null?m:0,q,r=(q=g.sdo)!=null?q:!0,t=0,u,w=google.erd,x=w.jsr;google.ml=function(a,b,d,n,e){e=e===void 0?2:e;b&&(u=a&&a.message);d===void 0&&(d={});d.cad=\"ple_\"+google.ple+\".aple_\"+google.aple;if(google.dl)return google.dl(a,e,d,!0),null;b=d;if(x<0){window.console&&console.error(a,b);if(x===-2)throw a;b=!1}else b=!a||!a.message||a.message===\"Error loading script\"||t>=l&&!n?!1:!0;if(!b)return null;t++;d=d||{};b=encodeURIComponent;var c=\"/gen_204?atyp=i&ei=\"+b(google.kEI);google.kEXPI&&(c+=\"&jexpid=\"+b(google.kEXPI));c+=\"&srcpg=\"+b(google.sn)+\"&jsr=\"+b(w.jsr)+\n",
      "\"&bver=\"+b(w.bv);w.dpf&&(c+=\"&dpf=\"+b(w.dpf));var f=a.lineNumber;f!==void 0&&(c+=\"&line=\"+f);var h=a.fileName;h&&(h.indexOf(\"-extension:/\")>0&&(e=3),c+=\"&script=\"+b(h),f&&h===window.location.href&&(f=document.documentElement.outerHTML.split(\"\\n\")[f],c+=\"&cad=\"+b(f?f.substring(0,300):\"No script found.\")));google.ple&&google.ple===1&&(e=2);c+=\"&jsel=\"+e;for(var v in d)c+=\"&\",c+=b(v),c+=\"=\",c+=b(d[v]);c=c+\"&emsg=\"+b(a.name+\": \"+a.message);c=c+\"&jsst=\"+b(a.stack||\"N/A\");c.length>=12288&&(c=c.substring(0,12288));a=c;n||google.log(0,\"\",a);return a};window.onerror=function(a,b,d,n,e){u!==a&&(a=e instanceof Error?e:Error(a),d===void 0||\"lineNumber\"in a||(a.lineNumber=d),b===void 0||\"fileName\"in a||(a.fileName=b),google.ml(a,!1,void 0,!1,a.name===\"SyntaxError\"||a.message.substring(0,11)===\"SyntaxError\"||a.message.indexOf(\"Script error\")!==-1?3:p));u=null;r&&t>=l&&(window.onerror=null)};})();</script></head><body bgcolor=\"#fff\"><script nonce=\"jQZby1Q0wugmtycGDDVCgw\">(function(){var src='/images/nav_logo229.png';var iesg=false;document.body.onload = function(){window.n && window.n();if (document.images){new Image().src=src;}\n",
      "if (!iesg){document.f&&document.f.q.focus();document.gbqf&&document.gbqf.q.focus();}\n",
      "}\n",
      "})();</script><div id=\"mngb\"><div id=gbar><nobr><b class=gb1>Search</b> <a class=gb1 href=\"https://www.google.com/imghp?hl=en&tab=wi\">Images</a> <a class=gb1 href=\"https://maps.google.co.in/maps?hl=en&tab=wl\">Maps</a> <a class=gb1 href=\"https://play.google.com/?hl=en&tab=w8\">Play</a> <a class=gb1 href=\"https://www.youtube.com/?tab=w1\">YouTube</a> <a class=gb1 href=\"https://news.google.com/?tab=wn\">News</a> <a class=gb1 href=\"https://mail.google.com/mail/?tab=wm\">Gmail</a> <a class=gb1 href=\"https://drive.google.com/?tab=wo\">Drive</a> <a class=gb1 style=\"text-decoration:none\" href=\"https://www.google.co.in/intl/en/about/products?tab=wh\"><u>More</u> &raquo;</a></nobr></div><div id=guser width=100%><nobr><span id=gbn class=gbi></span><span id=gbf class=gbf></span><span id=gbe></span><a href=\"http://www.google.co.in/history/optout?hl=en\" class=gb4>Web History</a> | <a  href=\"/preferences?hl=en\" class=gb4>Settings</a> | <a target=_top id=gb_70 href=\"https://accounts.google.com/ServiceLogin?hl=en&passive=true&continue=https://www.google.com/&ec=GAZAAQ\" class=gb4>Sign in</a></nobr></div><div class=gbh style=left:0></div><div class=gbh style=right:0></div></div><center><br clear=\"all\" id=\"lgpd\"><div id=\"XjhHGf\"><img alt=\"Google\" height=\"92\" src=\"/images/branding/googlelogo/1x/googlelogo_white_background_color_272x92dp.png\" style=\"padding:28px 0 14px\" width=\"272\" id=\"hplogo\"><br><br></div><form action=\"/search\" name=\"f\"><table cellpadding=\"0\" cellspacing=\"0\"><tr valign=\"top\"><td width=\"25%\">&nbsp;</td><td align=\"center\" nowrap=\"\"><input name=\"ie\" value=\"ISO-8859-1\" type=\"hidden\"><input value=\"en-IN\" name=\"hl\" type=\"hidden\"><input name=\"source\" type=\"hidden\" value=\"hp\"><input name=\"biw\" type=\"hidden\"><input name=\"bih\" type=\"hidden\"><div class=\"ds\" style=\"height:32px;margin:4px 0\"><input class=\"lst\" style=\"margin:0;padding:5px 8px 0 6px;vertical-align:top;color:#1f1f1f\" autocomplete=\"off\" value=\"\" title=\"Google Search\" maxlength=\"2048\" name=\"q\" size=\"57\"></div><br style=\"line-height:0\"><span class=\"ds\"><span class=\"lsbb\"><input class=\"lsb\" value=\"Google Search\" name=\"btnG\" type=\"submit\"></span></span><span class=\"ds\"><span class=\"lsbb\"><input class=\"lsb\" id=\"tsuid_5KmpaPLzKK3F5OUP2OKl4A8_1\" value=\"I'm Feeling Lucky\" name=\"btnI\" type=\"submit\"><script nonce=\"jQZby1Q0wugmtycGDDVCgw\">(function(){var id='tsuid_5KmpaPLzKK3F5OUP2OKl4A8_1';document.getElementById(id).onclick = function(){if (this.form.q.value){this.checked = 1;if (this.form.iflsig)this.form.iflsig.disabled = false;}\n",
      "else top.location='/doodles/';};})();</script><input value=\"AOw8s4IAAAAAaKm39GR9oScJx02m4CP4Fy62cev2-Y5Q\" name=\"iflsig\" type=\"hidden\"></span></span></td><td class=\"fl sblc\" align=\"left\" nowrap=\"\" width=\"25%\"><a href=\"/advanced_search?hl=en-IN&amp;authuser=0\">Advanced search</a></td></tr></table><input id=\"gbv\" name=\"gbv\" type=\"hidden\" value=\"1\"><script nonce=\"jQZby1Q0wugmtycGDDVCgw\">(function(){var a,b=\"1\";if(document&&document.getElementById)if(typeof XMLHttpRequest!=\"undefined\")b=\"2\";else if(typeof ActiveXObject!=\"undefined\"){var c,d,e=[\"MSXML2.XMLHTTP.6.0\",\"MSXML2.XMLHTTP.3.0\",\"MSXML2.XMLHTTP\",\"Microsoft.XMLHTTP\"];for(c=0;d=e[c++];)try{new ActiveXObject(d),b=\"2\"}catch(h){}}a=b;if(a==\"2\"&&location.search.indexOf(\"&gbv=2\")==-1){var f=google.gbvu,g=document.getElementById(\"gbv\");g&&(g.value=a);f&&window.setTimeout(function(){location.href=f},0)};}).call(this);</script></form><div style=\"font-size:83%;min-height:3.5em\"><br><div id=\"gws-output-pages-elements-homepage_additional_languages__als\"><style>#gws-output-pages-elements-homepage_additional_languages__als{font-size:small;margin-bottom:24px}#SIvCob{color:#545454;display:inline-block;line-height:28px;}#SIvCob a{}.H6sW5{display:inline-block;margin:0 2px;white-space:nowrap}.z4hgWe{display:inline-block;margin:0 2px}</style><div id=\"SIvCob\">Google offered in:  <a href=\"https://www.google.com/setprefs?sig=0_gNkRFnPnyYPMSLXyCBc7aVJd9tE%3D&amp;hl=hi&amp;source=homepage&amp;sa=X&amp;ved=0ahUKEwjy9fXk7aCPAxWtIrkGHVhxCfwQ2ZgBCAY\">&#2361;&#2367;&#2344;&#2381;&#2342;&#2368;</a>    <a href=\"https://www.google.com/setprefs?sig=0_gNkRFnPnyYPMSLXyCBc7aVJd9tE%3D&amp;hl=bn&amp;source=homepage&amp;sa=X&amp;ved=0ahUKEwjy9fXk7aCPAxWtIrkGHVhxCfwQ2ZgBCAc\">&#2476;&#2494;&#2434;&#2482;&#2494;</a>    <a href=\"https://www.google.com/setprefs?sig=0_gNkRFnPnyYPMSLXyCBc7aVJd9tE%3D&amp;hl=te&amp;source=homepage&amp;sa=X&amp;ved=0ahUKEwjy9fXk7aCPAxWtIrkGHVhxCfwQ2ZgBCAg\">&#3108;&#3142;&#3122;&#3137;&#3095;&#3137;</a>    <a href=\"https://www.google.com/setprefs?sig=0_gNkRFnPnyYPMSLXyCBc7aVJd9tE%3D&amp;hl=mr&amp;source=homepage&amp;sa=X&amp;ved=0ahUKEwjy9fXk7aCPAxWtIrkGHVhxCfwQ2ZgBCAk\">&#2350;&#2352;&#2366;&#2336;&#2368;</a>    <a href=\"https://www.google.com/setprefs?sig=0_gNkRFnPnyYPMSLXyCBc7aVJd9tE%3D&amp;hl=ta&amp;source=homepage&amp;sa=X&amp;ved=0ahUKEwjy9fXk7aCPAxWtIrkGHVhxCfwQ2ZgBCAo\">&#2980;&#2990;&#3007;&#2996;&#3021;</a>    <a href=\"https://www.google.com/setprefs?sig=0_gNkRFnPnyYPMSLXyCBc7aVJd9tE%3D&amp;hl=gu&amp;source=homepage&amp;sa=X&amp;ved=0ahUKEwjy9fXk7aCPAxWtIrkGHVhxCfwQ2ZgBCAs\">&#2711;&#2753;&#2716;&#2736;&#2750;&#2724;&#2752;</a>    <a href=\"https://www.google.com/setprefs?sig=0_gNkRFnPnyYPMSLXyCBc7aVJd9tE%3D&amp;hl=kn&amp;source=homepage&amp;sa=X&amp;ved=0ahUKEwjy9fXk7aCPAxWtIrkGHVhxCfwQ2ZgBCAw\">&#3221;&#3240;&#3277;&#3240;&#3233;</a>    <a href=\"https://www.google.com/setprefs?sig=0_gNkRFnPnyYPMSLXyCBc7aVJd9tE%3D&amp;hl=ml&amp;source=homepage&amp;sa=X&amp;ved=0ahUKEwjy9fXk7aCPAxWtIrkGHVhxCfwQ2ZgBCA0\">&#3374;&#3378;&#3375;&#3390;&#3379;&#3330;</a>    <a href=\"https://www.google.com/setprefs?sig=0_gNkRFnPnyYPMSLXyCBc7aVJd9tE%3D&amp;hl=pa&amp;source=homepage&amp;sa=X&amp;ved=0ahUKEwjy9fXk7aCPAxWtIrkGHVhxCfwQ2ZgBCA4\">&#2602;&#2672;&#2588;&#2622;&#2604;&#2624;</a>  </div></div></div><span id=\"footer\"><div style=\"font-size:10pt\"><div style=\"margin:19px auto;text-align:center\" id=\"WqQANb\"><a href=\"/intl/en/ads/\">Advertising</a><a href=\"http://www.google.co.in/services/\">Business Solutions</a><a href=\"/intl/en/about.html\">About Google</a><a href=\"https://www.google.com/setprefdomain?prefdom=IN&amp;prev=https://www.google.co.in/&amp;sig=K_hjx0ZfXotx59oj3CgxGV3fjTIL4%3D\">Google.co.in</a></div></div><p style=\"font-size:8pt;color:#636363\">&copy; 2025 - <a href=\"/intl/en/policies/privacy/\">Privacy</a> - <a href=\"/intl/en/policies/terms/\">Terms</a></p></span></center><script nonce=\"jQZby1Q0wugmtycGDDVCgw\">(function(){window.google.cdo={height:757,width:1440};(function(){var a=window.innerWidth,b=window.innerHeight;if(!a||!b){var c=window.document,d=c.compatMode==\"CSS1Compat\"?c.documentElement:c.body;a=d.clientWidth;b=d.clientHeight}if(a&&b&&(a!=google.cdo.width||b!=google.cdo.height)){var e=google,f=e.log,g=\"/client_204?&atyp=i&biw=\"+a+\"&bih=\"+b+\"&ei=\"+google.kEI,h=\"\",k=window.google&&window.google.kOPI||null;k&&(h+=\"&opi=\"+k);f.call(e,\"\",\"\",g+h)};}).call(this);})();(function(){google.xjs={basecomb:'/xjs/_/js/k\\x3dxjs.hp.en.-bn9j2uceEM.es5.O/ck\\x3dxjs.hp.zYp65ORwgE4.L.X.O/am\\x3dAAIAAAAAAAAgAAAAAAAAAAAAAAAAAAAAAAAAAgAAAAEAABBBIBAAAAAAAAAAAAAAQAAAYMCUADgAAAABgAABAAAAQAAADAAAAACABABAABAAAADxHQEABGIRAAC8/d\\x3d1/ed\\x3d1/dg\\x3d0/ujg\\x3d1/rs\\x3dACT90oE_iSt2mbb2v1FZGuegVRwiWYUpoQ',basecss:'/xjs/_/ss/k\\x3dxjs.hp.zYp65ORwgE4.L.X.O/am\\x3dAAIAAAAAAAAgAAAAAAAAAAAAAAAAAAAAAAAAAgAAAAEAABBBABAAAAAAAAAAAAAAQAAAYMAUAAAAAAABgAABAAAAQAAADAAAAACABABAABAAAAAAAAAAAAI/rs\\x3dACT90oFD2eKOboBgWFTVdbmkIGxyiJlETA',basejs:'/xjs/_/js/k\\x3dxjs.hp.en.-bn9j2uceEM.es5.O/am\\x3dAAAAAAAAAAAAAAAAAAAAAAAAAAAAAAAAAAAAAAAAAAAAAAABIAAAAAAAAAAAAAAAQAAAAACAADgAAAAAAAAAAAAAAAAAAAAAAAAAAAAAAAAAAADxHQEABGARAAC8/dg\\x3d0/rs\\x3dACT90oHOxiWC-bZXhLRYe35TYhX_oLRnLQ',excm:[]};})();(function(){var u='/xjs/_/js/k\\x3dxjs.hp.en.-bn9j2uceEM.es5.O/am\\x3dAAAAAAAAAAAAAAAAAAAAAAAAAAAAAAAAAAAAAAAAAAAAAAABIAAAAAAAAAAAAAAAQAAAAACAADgAAAAAAAAAAAAAAAAAAAAAAAAAAAAAAAAAAADxHQEABGARAAC8/d\\x3d1/ed\\x3d1/dg\\x3d3/rs\\x3dACT90oHOxiWC-bZXhLRYe35TYhX_oLRnLQ/m\\x3dsb_he,d';var st=1;var amd=1000;var mmd=0;var pod=true;var pop=true;var povp=false;var fp='';\n",
      "var e=this||self;function f(){var b,a,d;if(a=b=(a=window.google)==null?void 0:(d=a.ia)==null?void 0:d.r.B2Jtyd)a=b.m,a=a===1||a===5||a===6;return a&&b.cbfd!=null&&b.cbvi!=null?b:void 0};function g(){var b=[u];if(!google.dp){for(var a=0;a<b.length;a++){var d=b[a],c=document.createElement(\"link\");c.as=\"script\";c.href=d;c.rel=\"preload\";document.body.appendChild(c)}google.dp=!0}};google.ps===void 0&&(google.ps=[]);function h(){var b=u,a=function(){};google.lx=google.stvsc?a:function(){k(b);google.lx=a};google.bx||google.lx()}function l(b,a){a&&(b.src=a);fp&&google.caft&&google.caft(function(){b.fetchPriority=fp});var d=b.onload;b.onload=function(c){d&&d(c);google.ps=google.ps.filter(function(G){return b!==G})};google.ps.push(b);document.body.appendChild(b)}google.as=l;function k(b){google.timers&&google.timers.load&&google.tick&&google.tick(\"load\",\"xjsls\");var a=document.createElement(\"script\");a.onerror=function(){google.ple=1};a.onload=function(){google.ple=0};google.xjsus=void 0;l(a,b);google.aple=-1;google.dp=!0};function m(b){var a=b.getAttribute(\"jscontroller\");return(a===\"UBXHI\"||a===\"R3fhkb\"||a===\"TSZEqd\")&&b.hasAttribute(\"data-src\")}function n(){for(var b=document.getElementsByTagName(\"img\"),a=0,d=b.length;a<d;a++){var c=b[a];if(c.hasAttribute(\"data-lzy_\")&&Number(c.getAttribute(\"data-atf\"))&1&&!m(c))return!0}return!1}for(var p=document.getElementsByTagName(\"img\"),q=0,r=p.length;q<r;++q){var t=p[q];Number(t.getAttribute(\"data-atf\"))&1&&m(t)&&(t.src=t.getAttribute(\"data-src\"))};var w,x,y,z,A,B,C,D,E,F;function H(){google.xjsu=u;e._F_jsUrl=u;A=function(){h()};w=!1;x=(st===1||st===3)&&!!google.caft&&!n();y=f();z=(st===2||st===3)&&!!y&&!n();B=pod;C=pop;D=povp;E=pop&&document.prerendering||povp&&document.hidden;F=D?\"visibilitychange\":\"prerenderingchange\"}function I(){w||x||z||E||(A(),w=!0)}\n",
      "setTimeout(function(){google&&google.tick&&google.timers&&google.timers.load&&google.tick(\"load\",\"xjspls\");H();if(x||z||E){if(x){var b=function(){x=!1;I()};google.caft(b);window.setTimeout(b,amd)}z&&(b=function(){z=!1;I()},y.cbvi.push(b),window.setTimeout(b,mmd));if(E){var a=function(){(D?document.hidden:document.prerendering)||(E=!1,I(),document.removeEventListener(F,a))};document.addEventListener(F,a,{passive:!0})}if(B||C||D)w||g()}else A()},0);})();window._ = window._ || {};window._DumpException = _._DumpException = function(e){throw e;};window._s = window._s || {};_s._DumpException = _._DumpException;window._qs = window._qs || {};_qs._DumpException = _._DumpException;(function(){var t=[512,0,512,0,0,0,0,128,256,12682304,1,131072,0,27262977,394266956,4194306,65664,16844800,49152,536870912,4194308,66,1171216,72909056,12320768];window._F_toggles = window._xjs_toggles = t;})();window._F_installCss = window._F_installCss || function(css){};(function(){google.jl={bfl:0,dw:false,eli:false,ine:false,ubm:false,uwp:true,vs:false};})();(function(){var pmc='{\\x22d\\x22:{},\\x22sb_he\\x22:{\\x22client\\x22:\\x22heirloom-hp\\x22,\\x22dh\\x22:true,\\x22ds\\x22:\\x22\\x22,\\x22host\\x22:\\x22google.com\\x22,\\x22jsonp\\x22:true,\\x22msgs\\x22:{\\x22cibl\\x22:\\x22Clear Search\\x22,\\x22dym\\x22:\\x22Did you mean:\\x22,\\x22lcky\\x22:\\x22I\\\\u0026#39;m Feeling Lucky\\x22,\\x22lml\\x22:\\x22Learn more\\x22,\\x22psrc\\x22:\\x22This search was removed from your \\\\u003Ca href\\x3d\\\\\\x22/history\\\\\\x22\\\\u003EWeb History\\\\u003C/a\\\\u003E\\x22,\\x22psrl\\x22:\\x22Remove\\x22,\\x22sbit\\x22:\\x22Search by image\\x22,\\x22srch\\x22:\\x22Google Search\\x22},\\x22ovr\\x22:{},\\x22pq\\x22:\\x22\\x22,\\x22rfs\\x22:[],\\x22stok\\x22:\\x225s1PfmvUvEuhiKcQ5G0afSs2VkE\\x22}}';google.pmc=JSON.parse(pmc);})();</script></body></html>\n"
     ]
    }
   ],
   "source": [
    "req_sess=requests.Session()\n",
    "get_data = requests.get('https://www.google.com/')\n",
    "print(get_data.status_code)\n",
    "print(get_data.text)"
   ]
  },
  {
   "cell_type": "code",
   "execution_count": 116,
   "id": "a731e266-9108-41ab-9f42-1f8ac1a8abba",
   "metadata": {},
   "outputs": [
    {
     "name": "stdout",
     "output_type": "stream",
     "text": [
      "<requests.sessions.Session object at 0x14d3cfd10>\n"
     ]
    }
   ],
   "source": [
    "print(req_sess)"
   ]
  },
  {
   "cell_type": "code",
   "execution_count": 140,
   "id": "91e3de44-94d1-4c73-8db7-038421325cb9",
   "metadata": {},
   "outputs": [
    {
     "name": "stdout",
     "output_type": "stream",
     "text": [
      "200\n"
     ]
    }
   ],
   "source": [
    "proxies = {\n",
    "    'http':'http://localhost:8080'\n",
    "}\n",
    "\n",
    "res_prox = requests.get('https://www.google.com',proxies = proxies)\n",
    "print(res_prox.status_code)"
   ]
  },
  {
   "cell_type": "code",
   "execution_count": 142,
   "id": "b9a53230-b8f7-4a40-8c6c-e3a28d449b4a",
   "metadata": {},
   "outputs": [
    {
     "name": "stdout",
     "output_type": "stream",
     "text": [
      "<!doctype html><html itemscope=\"\" itemtype=\"http://schema.org/WebPage\" lang=\"en-IN\"><head><meta content=\"text/html; charset=UTF-8\" http-equiv=\"Content-Type\"><meta content=\"/images/branding/googleg/1x/googleg_standard_color_128dp.png\" itemprop=\"image\"><title>Google</title><script nonce=\"7U-8tP1Uq-bsm5McDDYDFw\">(function(){var _g={kEI:'8KypaMjoIYS95OUPgrXUEQ',kEXPI:'0,202854,2,3497391,702,435,448528,90133,48791,30022,16105,78219,266577,94243,144216,8860,42725,11106,5219175,11401,32768933,4043709,25366949,7147,6963,22918,42256,6751,23878,9139,4600,328,6225,50576,12879,710,15049,8205,868,1,2,2421,4134,30379,28334,54211,353,18880,3118,3,2749,7714,5774,8975,18636,3050,2,13472,6251,35,6284,10619,12108,2625,3058,3605,593,6734,8682,1762,2731,1747,11893,1628,1279,4222,4,4,5746,3,5344,550,1187,3821,1018,1,3459,2,4192,7,480,763,727,1033,655,923,2251,2608,982,3,2989,1411,1338,1,1059,7,1952,1915,731,103,4,1,320,841,2,4260,667,3134,974,5,6118,2311,475,862,4,2756,1409,1472,2,2,741,773,6601,1937,2273,216,1152,129,407,183,2,1,1379,32,104,3044,311,2,534,520,2168,133,543,554,224,1,22,1309,2,779,4,499,65,5,1,506,175,128,42,3359,24,518,745,831,1004,2002,4,5,1,101,251,1620,9,1,2038,1205,919,18,110,1198,262,2,4,1302,568,1,2,33,841,1013,2,101,538,3,193,381,259,1629,2023,1008,12,158,19,2930,77,30,766,739,1603,1715,8,4,398,201,1153,18,2,1396,1578,966,133,108,641,1273,599,3,421,1865,518,18,373,586,761,1938,467,45,111,7,2,645,7,4,257,238,5,754,31,2,119,1228,314,73,1221,1966,726,493,532,142,7,839,299,4,66,164,19,287,288,581,2793,198,236,430,502,50,90,317,210,48,125,340,322,134,752,314,100,253,674,665,167,48,20,502,841,80,747,39,9,88,111,56,327,412,880,630,210,3,3,131,1,2,12,16,169,278,1,1631,235,42,11,97,229,577,111,389,453,199,9,27,8,66,619,907,1109,353,472,659,2,96,515,144,1114,583,233,3932,1956,21166813,5,2253,739,4,2434,266,260,3,1308,1929,5254,2,1558,3,1001,1445,3,1927,101,3096,178,713,1126,57,1233,209,158,1189,117,496,85,303,3621325,2421191,11631,2431915,28046,151815,1684253,434355',kBL:'73NC',kOPI:89978449};(function(){var a;((a=window.google)==null?0:a.stvsc)?google.kEI=_g.kEI:window.google=_g;}).call(this);})();(function(){google.sn='webhp';google.kHL='en-IN';})();(function(){\n",
      "var g=this||self;function k(){return window.google&&window.google.kOPI||null};var l,m=[];function n(a){for(var b;a&&(!a.getAttribute||!(b=a.getAttribute(\"eid\")));)a=a.parentNode;return b||l}function p(a){for(var b=null;a&&(!a.getAttribute||!(b=a.getAttribute(\"leid\")));)a=a.parentNode;return b}function q(a){/^http:/i.test(a)&&window.location.protocol===\"https:\"&&(google.ml&&google.ml(Error(\"a\"),!1,{src:a,glmm:1}),a=\"\");return a}\n",
      "function r(a,b,d,c,h){var e=\"\";b.search(\"&ei=\")===-1&&(e=\"&ei=\"+n(c),b.search(\"&lei=\")===-1&&(c=p(c))&&(e+=\"&lei=\"+c));var f=b.search(\"&cshid=\")===-1&&a!==\"slh\";c=\"&zx=\"+Date.now().toString();g._cshid&&f&&(c+=\"&cshid=\"+g._cshid);(d=d())&&(c+=\"&opi=\"+d);return\"/\"+(h||\"gen_204\")+\"?atyp=i&ct=\"+String(a)+\"&cad=\"+(b+e+c)};l=google.kEI;google.getEI=n;google.getLEI=p;google.ml=function(){return null};google.log=function(a,b,d,c,h,e){e=e===void 0?k:e;d||(d=r(a,b,e,c,h));if(d=q(d)){a=new Image;var f=m.length;m[f]=a;a.onerror=a.onload=a.onabort=function(){delete m[f]};a.src=d}};google.logUrl=function(a,b){b=b===void 0?k:b;return r(\"\",a,b)};}).call(this);(function(){google.y={};google.sy={};function e(a,b,c){if(a)var d=a.id;else{do d=Math.random();while(c[d])}c[d]=[a,b]}var f;(f=google).x||(f.x=function(a,b){e(a,b,google.y)});var g;(g=google).sx||(g.sx=function(a,b){e(a,b,google.sy)});google.lm=[];var h;(h=google).plm||(h.plm=function(a){google.lm.push.apply(google.lm,a)});google.lq=[];var k;(k=google).load||(k.load=function(a,b,c){google.lq.push([[a],b,c])});var l;(l=google).loadAll||(l.loadAll=function(a,b){google.lq.push([a,b])});google.bx=!1;var m;(m=google).lx||(m.lx=function(){});var n=[],p;(p=google).fce||(p.fce=function(a,b,c,d){n.push([a,b,c,d])});google.qce=n;google.adl=[];}).call(this);google.f={};(function(){\n",
      "document.documentElement.addEventListener(\"submit\",function(b){var a;if(a=b.target){var c=a.getAttribute(\"data-submitfalse\");a=c===\"1\"||c===\"q\"&&!a.elements.q.value?!0:!1}else a=!1;a&&(b.preventDefault(),b.stopPropagation())},!0);document.documentElement.addEventListener(\"click\",function(b){var a;a:{for(a=b.target;a&&a!==document.documentElement;a=a.parentElement)if(a.tagName===\"A\"){a=a.getAttribute(\"data-nohref\")===\"1\";break a}a=!1}a&&b.preventDefault()},!0);}).call(this);</script><style>#gbar,#guser{font-size:13px;padding-top:1px !important;}#gbar{height:22px}#guser{padding-bottom:7px !important;text-align:right}.gbh,.gbd{border-top:1px solid #c9d7f1;font-size:1px}.gbh{height:0;position:absolute;top:24px;width:100%}@media all{.gb1{height:22px;margin-right:.5em;vertical-align:top}#gbar{float:left}}a.gb1,a.gb4{text-decoration:underline !important}a.gb1,a.gb4{color:#00c !important}.gbi .gb4{color:#dd8e27 !important}.gbf .gb4{color:#900 !important}\n",
      "</style><style>body,td,a,p,.h{font-family:sans-serif}body{margin:0;overflow-y:scroll}#gog{padding:3px 8px 0}td{line-height:.8em}.gac_m td{line-height:17px}form{margin-bottom:20px}.h{color:#1967d2}em{font-weight:bold;font-style:normal}.lst{height:25px;width:496px}.gsfi,.lst{font:18px sans-serif}.gsfs{font:17px sans-serif}.ds{display:inline-box;display:inline-block;margin:3px 0 4px;margin-left:4px}input{font-family:inherit}body{background:#fff;color:#1f1f1f}a{color:#681da8;text-decoration:none}a:hover,a:active{text-decoration:underline}.fl a{color:#1967d2}a:visited{color:#681da8}.sblc{padding-top:5px}.sblc a{display:block;margin:2px 0;margin-left:13px;font-size:11px}.lsbb{background:#f8f9fa;border:solid 1px;border-color:#dadce0 #70757a #70757a #dadce0;height:30px}.lsbb{display:block}#WqQANb a{display:inline-block;margin:0 12px}.lsb{background:url(/images/nav_logo229.png) 0 -261px repeat-x;color:#1f1f1f;border:none;cursor:pointer;height:30px;margin:0;outline:0;font:15px sans-serif;vertical-align:top}.lsb:active{background:#dadce0}.lst:focus{outline:none}</style><script nonce=\"7U-8tP1Uq-bsm5McDDYDFw\">(function(){window.google.erd={jsr:1,bv:2277,de:true,dpf:'XV7KFXoAvL6x6_Ws6wi7gPbVNmbVtkv3q6e-GXBc95Y'};\n",
      "var g=this||self;var k,l=(k=g.mei)!=null?k:1,m,p=(m=g.diel)!=null?m:0,q,r=(q=g.sdo)!=null?q:!0,t=0,u,w=google.erd,x=w.jsr;google.ml=function(a,b,d,n,e){e=e===void 0?2:e;b&&(u=a&&a.message);d===void 0&&(d={});d.cad=\"ple_\"+google.ple+\".aple_\"+google.aple;if(google.dl)return google.dl(a,e,d,!0),null;b=d;if(x<0){window.console&&console.error(a,b);if(x===-2)throw a;b=!1}else b=!a||!a.message||a.message===\"Error loading script\"||t>=l&&!n?!1:!0;if(!b)return null;t++;d=d||{};b=encodeURIComponent;var c=\"/gen_204?atyp=i&ei=\"+b(google.kEI);google.kEXPI&&(c+=\"&jexpid=\"+b(google.kEXPI));c+=\"&srcpg=\"+b(google.sn)+\"&jsr=\"+b(w.jsr)+\n",
      "\"&bver=\"+b(w.bv);w.dpf&&(c+=\"&dpf=\"+b(w.dpf));var f=a.lineNumber;f!==void 0&&(c+=\"&line=\"+f);var h=a.fileName;h&&(h.indexOf(\"-extension:/\")>0&&(e=3),c+=\"&script=\"+b(h),f&&h===window.location.href&&(f=document.documentElement.outerHTML.split(\"\\n\")[f],c+=\"&cad=\"+b(f?f.substring(0,300):\"No script found.\")));google.ple&&google.ple===1&&(e=2);c+=\"&jsel=\"+e;for(var v in d)c+=\"&\",c+=b(v),c+=\"=\",c+=b(d[v]);c=c+\"&emsg=\"+b(a.name+\": \"+a.message);c=c+\"&jsst=\"+b(a.stack||\"N/A\");c.length>=12288&&(c=c.substring(0,12288));a=c;n||google.log(0,\"\",a);return a};window.onerror=function(a,b,d,n,e){u!==a&&(a=e instanceof Error?e:Error(a),d===void 0||\"lineNumber\"in a||(a.lineNumber=d),b===void 0||\"fileName\"in a||(a.fileName=b),google.ml(a,!1,void 0,!1,a.name===\"SyntaxError\"||a.message.substring(0,11)===\"SyntaxError\"||a.message.indexOf(\"Script error\")!==-1?3:p));u=null;r&&t>=l&&(window.onerror=null)};})();</script></head><body bgcolor=\"#fff\"><script nonce=\"7U-8tP1Uq-bsm5McDDYDFw\">(function(){var src='/images/nav_logo229.png';var iesg=false;document.body.onload = function(){window.n && window.n();if (document.images){new Image().src=src;}\n",
      "if (!iesg){document.f&&document.f.q.focus();document.gbqf&&document.gbqf.q.focus();}\n",
      "}\n",
      "})();</script><div id=\"mngb\"><div id=gbar><nobr><b class=gb1>Search</b> <a class=gb1 href=\"https://www.google.com/imghp?hl=en&tab=wi\">Images</a> <a class=gb1 href=\"https://maps.google.co.in/maps?hl=en&tab=wl\">Maps</a> <a class=gb1 href=\"https://play.google.com/?hl=en&tab=w8\">Play</a> <a class=gb1 href=\"https://www.youtube.com/?tab=w1\">YouTube</a> <a class=gb1 href=\"https://news.google.com/?tab=wn\">News</a> <a class=gb1 href=\"https://mail.google.com/mail/?tab=wm\">Gmail</a> <a class=gb1 href=\"https://drive.google.com/?tab=wo\">Drive</a> <a class=gb1 style=\"text-decoration:none\" href=\"https://www.google.co.in/intl/en/about/products?tab=wh\"><u>More</u> &raquo;</a></nobr></div><div id=guser width=100%><nobr><span id=gbn class=gbi></span><span id=gbf class=gbf></span><span id=gbe></span><a href=\"http://www.google.co.in/history/optout?hl=en\" class=gb4>Web History</a> | <a  href=\"/preferences?hl=en\" class=gb4>Settings</a> | <a target=_top id=gb_70 href=\"https://accounts.google.com/ServiceLogin?hl=en&passive=true&continue=https://www.google.com/&ec=GAZAAQ\" class=gb4>Sign in</a></nobr></div><div class=gbh style=left:0></div><div class=gbh style=right:0></div></div><center><br clear=\"all\" id=\"lgpd\"><div id=\"XjhHGf\"><img alt=\"Google\" height=\"92\" src=\"/images/branding/googlelogo/1x/googlelogo_white_background_color_272x92dp.png\" style=\"padding:28px 0 14px\" width=\"272\" id=\"hplogo\"><br><br></div><form action=\"/search\" name=\"f\"><table cellpadding=\"0\" cellspacing=\"0\"><tr valign=\"top\"><td width=\"25%\">&nbsp;</td><td align=\"center\" nowrap=\"\"><input name=\"ie\" value=\"ISO-8859-1\" type=\"hidden\"><input value=\"en-IN\" name=\"hl\" type=\"hidden\"><input name=\"source\" type=\"hidden\" value=\"hp\"><input name=\"biw\" type=\"hidden\"><input name=\"bih\" type=\"hidden\"><div class=\"ds\" style=\"height:32px;margin:4px 0\"><input class=\"lst\" style=\"margin:0;padding:5px 8px 0 6px;vertical-align:top;color:#1f1f1f\" autocomplete=\"off\" value=\"\" title=\"Google Search\" maxlength=\"2048\" name=\"q\" size=\"57\"></div><br style=\"line-height:0\"><span class=\"ds\"><span class=\"lsbb\"><input class=\"lsb\" value=\"Google Search\" name=\"btnG\" type=\"submit\"></span></span><span class=\"ds\"><span class=\"lsbb\"><input class=\"lsb\" id=\"tsuid_8KypaMjoIYS95OUPgrXUEQ_1\" value=\"I'm Feeling Lucky\" name=\"btnI\" type=\"submit\"><script nonce=\"7U-8tP1Uq-bsm5McDDYDFw\">(function(){var id='tsuid_8KypaMjoIYS95OUPgrXUEQ_1';document.getElementById(id).onclick = function(){if (this.form.q.value){this.checked = 1;if (this.form.iflsig)this.form.iflsig.disabled = false;}\n",
      "else top.location='/doodles/';};})();</script><input value=\"AOw8s4IAAAAAaKm7AAQ_92NGJt8hGnIsAZ-I9N3XGnIr\" name=\"iflsig\" type=\"hidden\"></span></span></td><td class=\"fl sblc\" align=\"left\" nowrap=\"\" width=\"25%\"><a href=\"/advanced_search?hl=en-IN&amp;authuser=0\">Advanced search</a></td></tr></table><input id=\"gbv\" name=\"gbv\" type=\"hidden\" value=\"1\"><script nonce=\"7U-8tP1Uq-bsm5McDDYDFw\">(function(){var a,b=\"1\";if(document&&document.getElementById)if(typeof XMLHttpRequest!=\"undefined\")b=\"2\";else if(typeof ActiveXObject!=\"undefined\"){var c,d,e=[\"MSXML2.XMLHTTP.6.0\",\"MSXML2.XMLHTTP.3.0\",\"MSXML2.XMLHTTP\",\"Microsoft.XMLHTTP\"];for(c=0;d=e[c++];)try{new ActiveXObject(d),b=\"2\"}catch(h){}}a=b;if(a==\"2\"&&location.search.indexOf(\"&gbv=2\")==-1){var f=google.gbvu,g=document.getElementById(\"gbv\");g&&(g.value=a);f&&window.setTimeout(function(){location.href=f},0)};}).call(this);</script></form><div style=\"font-size:83%;min-height:3.5em\"><br><div id=\"gws-output-pages-elements-homepage_additional_languages__als\"><style>#gws-output-pages-elements-homepage_additional_languages__als{font-size:small;margin-bottom:24px}#SIvCob{color:#545454;display:inline-block;line-height:28px;}#SIvCob a{}.H6sW5{display:inline-block;margin:0 2px;white-space:nowrap}.z4hgWe{display:inline-block;margin:0 2px}</style><div id=\"SIvCob\">Google offered in:  <a href=\"https://www.google.com/setprefs?sig=0_WrxqfIyDYTA2IHrVQl_Ze6CJ6dU%3D&amp;hl=hi&amp;source=homepage&amp;sa=X&amp;ved=0ahUKEwjIoObY8KCPAxWEHrkGHYIaNQIQ2ZgBCAY\">&#2361;&#2367;&#2344;&#2381;&#2342;&#2368;</a>    <a href=\"https://www.google.com/setprefs?sig=0_WrxqfIyDYTA2IHrVQl_Ze6CJ6dU%3D&amp;hl=bn&amp;source=homepage&amp;sa=X&amp;ved=0ahUKEwjIoObY8KCPAxWEHrkGHYIaNQIQ2ZgBCAc\">&#2476;&#2494;&#2434;&#2482;&#2494;</a>    <a href=\"https://www.google.com/setprefs?sig=0_WrxqfIyDYTA2IHrVQl_Ze6CJ6dU%3D&amp;hl=te&amp;source=homepage&amp;sa=X&amp;ved=0ahUKEwjIoObY8KCPAxWEHrkGHYIaNQIQ2ZgBCAg\">&#3108;&#3142;&#3122;&#3137;&#3095;&#3137;</a>    <a href=\"https://www.google.com/setprefs?sig=0_WrxqfIyDYTA2IHrVQl_Ze6CJ6dU%3D&amp;hl=mr&amp;source=homepage&amp;sa=X&amp;ved=0ahUKEwjIoObY8KCPAxWEHrkGHYIaNQIQ2ZgBCAk\">&#2350;&#2352;&#2366;&#2336;&#2368;</a>    <a href=\"https://www.google.com/setprefs?sig=0_WrxqfIyDYTA2IHrVQl_Ze6CJ6dU%3D&amp;hl=ta&amp;source=homepage&amp;sa=X&amp;ved=0ahUKEwjIoObY8KCPAxWEHrkGHYIaNQIQ2ZgBCAo\">&#2980;&#2990;&#3007;&#2996;&#3021;</a>    <a href=\"https://www.google.com/setprefs?sig=0_WrxqfIyDYTA2IHrVQl_Ze6CJ6dU%3D&amp;hl=gu&amp;source=homepage&amp;sa=X&amp;ved=0ahUKEwjIoObY8KCPAxWEHrkGHYIaNQIQ2ZgBCAs\">&#2711;&#2753;&#2716;&#2736;&#2750;&#2724;&#2752;</a>    <a href=\"https://www.google.com/setprefs?sig=0_WrxqfIyDYTA2IHrVQl_Ze6CJ6dU%3D&amp;hl=kn&amp;source=homepage&amp;sa=X&amp;ved=0ahUKEwjIoObY8KCPAxWEHrkGHYIaNQIQ2ZgBCAw\">&#3221;&#3240;&#3277;&#3240;&#3233;</a>    <a href=\"https://www.google.com/setprefs?sig=0_WrxqfIyDYTA2IHrVQl_Ze6CJ6dU%3D&amp;hl=ml&amp;source=homepage&amp;sa=X&amp;ved=0ahUKEwjIoObY8KCPAxWEHrkGHYIaNQIQ2ZgBCA0\">&#3374;&#3378;&#3375;&#3390;&#3379;&#3330;</a>    <a href=\"https://www.google.com/setprefs?sig=0_WrxqfIyDYTA2IHrVQl_Ze6CJ6dU%3D&amp;hl=pa&amp;source=homepage&amp;sa=X&amp;ved=0ahUKEwjIoObY8KCPAxWEHrkGHYIaNQIQ2ZgBCA4\">&#2602;&#2672;&#2588;&#2622;&#2604;&#2624;</a>  </div></div></div><span id=\"footer\"><div style=\"font-size:10pt\"><div style=\"margin:19px auto;text-align:center\" id=\"WqQANb\"><a href=\"/intl/en/ads/\">Advertising</a><a href=\"http://www.google.co.in/services/\">Business Solutions</a><a href=\"/intl/en/about.html\">About Google</a><a href=\"https://www.google.com/setprefdomain?prefdom=IN&amp;prev=https://www.google.co.in/&amp;sig=K_B8splou1GwaAVr_hKpax_ZAL4sM%3D\">Google.co.in</a></div></div><p style=\"font-size:8pt;color:#636363\">&copy; 2025 - <a href=\"/intl/en/policies/privacy/\">Privacy</a> - <a href=\"/intl/en/policies/terms/\">Terms</a></p></span></center><script nonce=\"7U-8tP1Uq-bsm5McDDYDFw\">(function(){window.google.cdo={height:757,width:1440};(function(){var a=window.innerWidth,b=window.innerHeight;if(!a||!b){var c=window.document,d=c.compatMode==\"CSS1Compat\"?c.documentElement:c.body;a=d.clientWidth;b=d.clientHeight}if(a&&b&&(a!=google.cdo.width||b!=google.cdo.height)){var e=google,f=e.log,g=\"/client_204?&atyp=i&biw=\"+a+\"&bih=\"+b+\"&ei=\"+google.kEI,h=\"\",k=window.google&&window.google.kOPI||null;k&&(h+=\"&opi=\"+k);f.call(e,\"\",\"\",g+h)};}).call(this);})();(function(){google.xjs={basecomb:'/xjs/_/js/k\\x3dxjs.hp.en.-bn9j2uceEM.es5.O/ck\\x3dxjs.hp.zYp65ORwgE4.L.X.O/am\\x3dAAIAAAAAAAAgAAAAAAAAAAAAAAAAAAAAAAAAAgAAAAEAABBBIBAAAAAAAAAAAAAAQAAAYMCUADgAAAABgAABAAAAQAAADAAAAACABABAABAAAADxHQEABGIRAAC8/d\\x3d1/ed\\x3d1/dg\\x3d0/ujg\\x3d1/rs\\x3dACT90oE_iSt2mbb2v1FZGuegVRwiWYUpoQ',basecss:'/xjs/_/ss/k\\x3dxjs.hp.zYp65ORwgE4.L.X.O/am\\x3dAAIAAAAAAAAgAAAAAAAAAAAAAAAAAAAAAAAAAgAAAAEAABBBABAAAAAAAAAAAAAAQAAAYMAUAAAAAAABgAABAAAAQAAADAAAAACABABAABAAAAAAAAAAAAI/rs\\x3dACT90oFD2eKOboBgWFTVdbmkIGxyiJlETA',basejs:'/xjs/_/js/k\\x3dxjs.hp.en.-bn9j2uceEM.es5.O/am\\x3dAAAAAAAAAAAAAAAAAAAAAAAAAAAAAAAAAAAAAAAAAAAAAAABIAAAAAAAAAAAAAAAQAAAAACAADgAAAAAAAAAAAAAAAAAAAAAAAAAAAAAAAAAAADxHQEABGARAAC8/dg\\x3d0/rs\\x3dACT90oHOxiWC-bZXhLRYe35TYhX_oLRnLQ',excm:[]};})();(function(){var u='/xjs/_/js/k\\x3dxjs.hp.en.-bn9j2uceEM.es5.O/am\\x3dAAAAAAAAAAAAAAAAAAAAAAAAAAAAAAAAAAAAAAAAAAAAAAABIAAAAAAAAAAAAAAAQAAAAACAADgAAAAAAAAAAAAAAAAAAAAAAAAAAAAAAAAAAADxHQEABGARAAC8/d\\x3d1/ed\\x3d1/dg\\x3d3/rs\\x3dACT90oHOxiWC-bZXhLRYe35TYhX_oLRnLQ/m\\x3dsb_he,d';var st=1;var amd=1000;var mmd=0;var pod=true;var pop=true;var povp=false;var fp='';\n",
      "var e=this||self;function f(){var b,a,d;if(a=b=(a=window.google)==null?void 0:(d=a.ia)==null?void 0:d.r.B2Jtyd)a=b.m,a=a===1||a===5||a===6;return a&&b.cbfd!=null&&b.cbvi!=null?b:void 0};function g(){var b=[u];if(!google.dp){for(var a=0;a<b.length;a++){var d=b[a],c=document.createElement(\"link\");c.as=\"script\";c.href=d;c.rel=\"preload\";document.body.appendChild(c)}google.dp=!0}};google.ps===void 0&&(google.ps=[]);function h(){var b=u,a=function(){};google.lx=google.stvsc?a:function(){k(b);google.lx=a};google.bx||google.lx()}function l(b,a){a&&(b.src=a);fp&&google.caft&&google.caft(function(){b.fetchPriority=fp});var d=b.onload;b.onload=function(c){d&&d(c);google.ps=google.ps.filter(function(G){return b!==G})};google.ps.push(b);document.body.appendChild(b)}google.as=l;function k(b){google.timers&&google.timers.load&&google.tick&&google.tick(\"load\",\"xjsls\");var a=document.createElement(\"script\");a.onerror=function(){google.ple=1};a.onload=function(){google.ple=0};google.xjsus=void 0;l(a,b);google.aple=-1;google.dp=!0};function m(b){var a=b.getAttribute(\"jscontroller\");return(a===\"UBXHI\"||a===\"R3fhkb\"||a===\"TSZEqd\")&&b.hasAttribute(\"data-src\")}function n(){for(var b=document.getElementsByTagName(\"img\"),a=0,d=b.length;a<d;a++){var c=b[a];if(c.hasAttribute(\"data-lzy_\")&&Number(c.getAttribute(\"data-atf\"))&1&&!m(c))return!0}return!1}for(var p=document.getElementsByTagName(\"img\"),q=0,r=p.length;q<r;++q){var t=p[q];Number(t.getAttribute(\"data-atf\"))&1&&m(t)&&(t.src=t.getAttribute(\"data-src\"))};var w,x,y,z,A,B,C,D,E,F;function H(){google.xjsu=u;e._F_jsUrl=u;A=function(){h()};w=!1;x=(st===1||st===3)&&!!google.caft&&!n();y=f();z=(st===2||st===3)&&!!y&&!n();B=pod;C=pop;D=povp;E=pop&&document.prerendering||povp&&document.hidden;F=D?\"visibilitychange\":\"prerenderingchange\"}function I(){w||x||z||E||(A(),w=!0)}\n",
      "setTimeout(function(){google&&google.tick&&google.timers&&google.timers.load&&google.tick(\"load\",\"xjspls\");H();if(x||z||E){if(x){var b=function(){x=!1;I()};google.caft(b);window.setTimeout(b,amd)}z&&(b=function(){z=!1;I()},y.cbvi.push(b),window.setTimeout(b,mmd));if(E){var a=function(){(D?document.hidden:document.prerendering)||(E=!1,I(),document.removeEventListener(F,a))};document.addEventListener(F,a,{passive:!0})}if(B||C||D)w||g()}else A()},0);})();window._ = window._ || {};window._DumpException = _._DumpException = function(e){throw e;};window._s = window._s || {};_s._DumpException = _._DumpException;window._qs = window._qs || {};_qs._DumpException = _._DumpException;(function(){var t=[512,0,512,0,0,0,0,128,256,12682304,257,131072,0,27262977,394266956,4194306,65664,16844800,49152,536870912,4194308,66,1171216,72909056,12320768];window._F_toggles = window._xjs_toggles = t;})();window._F_installCss = window._F_installCss || function(css){};(function(){google.jl={bfl:0,dw:false,eli:false,ine:false,ubm:false,uwp:true,vs:false};})();(function(){var pmc='{\\x22d\\x22:{},\\x22sb_he\\x22:{\\x22client\\x22:\\x22heirloom-hp\\x22,\\x22dh\\x22:true,\\x22ds\\x22:\\x22\\x22,\\x22host\\x22:\\x22google.com\\x22,\\x22jsonp\\x22:true,\\x22msgs\\x22:{\\x22cibl\\x22:\\x22Clear Search\\x22,\\x22dym\\x22:\\x22Did you mean:\\x22,\\x22lcky\\x22:\\x22I\\\\u0026#39;m Feeling Lucky\\x22,\\x22lml\\x22:\\x22Learn more\\x22,\\x22psrc\\x22:\\x22This search was removed from your \\\\u003Ca href\\x3d\\\\\\x22/history\\\\\\x22\\\\u003EWeb History\\\\u003C/a\\\\u003E\\x22,\\x22psrl\\x22:\\x22Remove\\x22,\\x22sbit\\x22:\\x22Search by image\\x22,\\x22srch\\x22:\\x22Google Search\\x22},\\x22ovr\\x22:{},\\x22pq\\x22:\\x22\\x22,\\x22rfs\\x22:[],\\x22stok\\x22:\\x22KdfDvotTQHdJxZl7rxTNPnKnECQ\\x22}}';google.pmc=JSON.parse(pmc);})();</script></body></html>\n"
     ]
    }
   ],
   "source": [
    "print(res_prox.text)"
   ]
  }
 ],
 "metadata": {
  "kernelspec": {
   "display_name": "Python [conda env:base] *",
   "language": "python",
   "name": "conda-base-py"
  },
  "language_info": {
   "codemirror_mode": {
    "name": "ipython",
    "version": 3
   },
   "file_extension": ".py",
   "mimetype": "text/x-python",
   "name": "python",
   "nbconvert_exporter": "python",
   "pygments_lexer": "ipython3",
   "version": "3.12.7"
  }
 },
 "nbformat": 4,
 "nbformat_minor": 5
}
